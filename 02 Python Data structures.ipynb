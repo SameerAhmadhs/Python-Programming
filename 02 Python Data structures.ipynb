{
 "cells": [
  {
   "cell_type": "markdown",
   "id": "8d10659d",
   "metadata": {},
   "source": [
    "# ------------------------------/ Python Data Structures \\ --------------------------------------"
   ]
  },
  {
   "cell_type": "markdown",
   "id": "49abadab",
   "metadata": {},
   "source": [
    "1. List\n",
    "2. Tuple\n",
    "3. Set\n",
    "4. Dictionary"
   ]
  },
  {
   "cell_type": "markdown",
   "id": "50f1b903",
   "metadata": {},
   "source": [
    "# 1) List"
   ]
  },
  {
   "cell_type": "markdown",
   "id": "ed3ad029",
   "metadata": {},
   "source": [
    "* Written with `[]` braces.\n",
    "* Indexing is allowed and so the ordering of the data.\n",
    "* Data is changeable (mutable).\n",
    "* Duplicates are allowed."
   ]
  },
  {
   "cell_type": "markdown",
   "id": "2b6b0c4b",
   "metadata": {},
   "source": [
    "## Create a list"
   ]
  },
  {
   "cell_type": "code",
   "execution_count": 1,
   "id": "feb92c3e",
   "metadata": {},
   "outputs": [],
   "source": [
    "# get the output of commands in a cell with out print\n",
    "from IPython.core.interactiveshell import InteractiveShell\n",
    "InteractiveShell.ast_node_interactivity = 'all'\n"
   ]
  },
  {
   "cell_type": "code",
   "execution_count": 31,
   "id": "52de109f",
   "metadata": {},
   "outputs": [],
   "source": [
    "list1=[\"GREEN\",\"BLACK\",\"YELLOW\",\"WHITE\",\"PURPAL\"]\n",
    "list2=[5,10,15,20,25,30,35,40]"
   ]
  },
  {
   "cell_type": "code",
   "execution_count": 6,
   "id": "db6c3355",
   "metadata": {},
   "outputs": [
    {
     "name": "stdout",
     "output_type": "stream",
     "text": [
      "['GREEN', 'BLACK', 'YELLOW', 'WHITE', 'PURPAL']\n",
      "[5, 10, 15, 20, 25, 30, 35, 40]\n"
     ]
    }
   ],
   "source": [
    "print(list1,list2,sep='\\n',end='\\n')"
   ]
  },
  {
   "cell_type": "code",
   "execution_count": 7,
   "id": "eb6c3c76",
   "metadata": {},
   "outputs": [
    {
     "name": "stdout",
     "output_type": "stream",
     "text": [
      "['GREEN', 'BLACK', 'YELLOW', 'WHITE', 'PURPAL']\n",
      "\n",
      "<class 'list'>\n",
      "\n",
      "[5, 10, 15, 20, 25, 30, 35, 40]\n",
      "\n",
      "<class 'list'>\n"
     ]
    }
   ],
   "source": [
    "print(list1,type(list1),list2 ,type(list2),sep='\\n\\n')"
   ]
  },
  {
   "cell_type": "markdown",
   "id": "88e3595f",
   "metadata": {},
   "source": [
    "### List Indexing"
   ]
  },
  {
   "cell_type": "markdown",
   "id": "e2ffa071",
   "metadata": {},
   "source": [
    "#### Syntax: \n",
    "  list_name[index num]"
   ]
  },
  {
   "cell_type": "code",
   "execution_count": 8,
   "id": "af2153a3",
   "metadata": {},
   "outputs": [
    {
     "name": "stdout",
     "output_type": "stream",
     "text": [
      "['GREEN', 'BLACK', 'YELLOW', 'WHITE', 'PURPAL']\n"
     ]
    }
   ],
   "source": [
    "list1[2]\n",
    "list1[3]\n",
    "list1[4]\n",
    "list1[2:4]\n",
    "list1[0:4:2]\n",
    "list1[-1]\n",
    "list1[::-1]\n",
    "list1[::-2]\n",
    "print(list1)\n",
    "\n"
   ]
  },
  {
   "cell_type": "markdown",
   "id": "7d412ac8",
   "metadata": {},
   "source": [
    "# List items are changeable/mutable "
   ]
  },
  {
   "cell_type": "code",
   "execution_count": 9,
   "id": "2c23ff78",
   "metadata": {},
   "outputs": [],
   "source": [
    "# we can directly change the list value by using:-\n",
    "list2[3]=55"
   ]
  },
  {
   "cell_type": "code",
   "execution_count": 10,
   "id": "207eb268",
   "metadata": {},
   "outputs": [
    {
     "name": "stdout",
     "output_type": "stream",
     "text": [
      "[5, 10, 15, 55, 25, 30, 35, 40]\n"
     ]
    }
   ],
   "source": [
    "print(list2)\n"
   ]
  },
  {
   "cell_type": "code",
   "execution_count": 11,
   "id": "dd8c7616",
   "metadata": {},
   "outputs": [
    {
     "data": {
      "text/plain": [
       "'BLACK'"
      ]
     },
     "execution_count": 11,
     "metadata": {},
     "output_type": "execute_result"
    }
   ],
   "source": [
    "list1[1]"
   ]
  },
  {
   "cell_type": "code",
   "execution_count": 12,
   "id": "221509d9",
   "metadata": {},
   "outputs": [
    {
     "name": "stdout",
     "output_type": "stream",
     "text": [
      "BLACK\n",
      "<class 'str'>\n",
      "['GREEN', 'BLACK', 'YELLOW', 'WHITE']\n",
      "<class 'list'>\n"
     ]
    }
   ],
   "source": [
    "print(list1[1],type(list1[1]),sep='\\n')\n",
    "print(list1[0:4],type(list1[0:4]),sep='\\n')"
   ]
  },
  {
   "cell_type": "code",
   "execution_count": 13,
   "id": "fcacf5a0",
   "metadata": {},
   "outputs": [],
   "source": [
    "# list can hold data of different types\n",
    "list3=[\"voilet\",\"blue\",\"red\",34,56,78,True,False]"
   ]
  },
  {
   "cell_type": "code",
   "execution_count": 14,
   "id": "f0fa5ba2",
   "metadata": {},
   "outputs": [
    {
     "name": "stdout",
     "output_type": "stream",
     "text": [
      "blue\n",
      "<class 'str'>\n",
      "34\n",
      "<class 'int'>\n",
      "False\n",
      "<class 'bool'>\n"
     ]
    }
   ],
   "source": [
    "print(list3[1],type(list3[1]),sep='\\n')\n",
    "print(list3[3],type(list3[3]),sep='\\n')\n",
    "print(list3[7],type(list3[7]),sep='\\n')"
   ]
  },
  {
   "cell_type": "markdown",
   "id": "0dc682ba",
   "metadata": {},
   "source": [
    "# Nested List ( list inside the list ) "
   ]
  },
  {
   "cell_type": "code",
   "execution_count": 15,
   "id": "3465a9fb",
   "metadata": {},
   "outputs": [],
   "source": [
    "list4=[[\"voilet\",\"blue\",\"red\"],[34,56,78],[True,False]]"
   ]
  },
  {
   "cell_type": "code",
   "execution_count": 16,
   "id": "7fdf7a93",
   "metadata": {},
   "outputs": [
    {
     "name": "stdout",
     "output_type": "stream",
     "text": [
      "['voilet', 'blue', 'red']\n",
      "<class 'list'>\n",
      "[34, 56, 78]\n",
      "<class 'list'>\n",
      "[True, False]\n",
      "<class 'list'>\n"
     ]
    }
   ],
   "source": [
    "print(list4[0],type(list4[0]),sep='\\n',end='\\n')\n",
    "print(list4[1],type(list4[1]),sep='\\n',end='\\n')\n",
    "print(list4[2],type(list4[2]),sep='\\n',end='\\n')"
   ]
  },
  {
   "cell_type": "code",
   "execution_count": 17,
   "id": "b1ab401b",
   "metadata": {},
   "outputs": [
    {
     "name": "stdout",
     "output_type": "stream",
     "text": [
      "[['voilet', 'blue', 'red'], [34, 56, 78], [True, False]]\n"
     ]
    }
   ],
   "source": [
    "print(list4)"
   ]
  },
  {
   "cell_type": "code",
   "execution_count": 18,
   "id": "024208ef",
   "metadata": {},
   "outputs": [
    {
     "name": "stdout",
     "output_type": "stream",
     "text": [
      "red\n",
      "<class 'str'>\n",
      "56\n",
      "<class 'int'>\n",
      "eulb\n",
      "<class 'str'>\n"
     ]
    }
   ],
   "source": [
    "print(list4[0][2],type(list4[0][2]),sep='\\n')\n",
    "print(list4[1][1],type(list4[1][1]),sep='\\n',end='\\n')\n",
    "print(list4[0][1][::-1],type(list4[0][1][::-1]),sep='\\n',end='\\n')"
   ]
  },
  {
   "cell_type": "markdown",
   "id": "fed46789",
   "metadata": {},
   "source": [
    "# Duplicate values are allowed"
   ]
  },
  {
   "cell_type": "code",
   "execution_count": 19,
   "id": "8dba35c6",
   "metadata": {},
   "outputs": [
    {
     "name": "stdout",
     "output_type": "stream",
     "text": [
      "['black', 'white', 'grey', 'silver', 'maroon', 'silver', 'maroon']\n"
     ]
    }
   ],
   "source": [
    "colour=[\"black\", \"white\", \"grey\", \"silver\", \"maroon\",\"silver\", \"maroon\"]\n",
    "print(colour)"
   ]
  },
  {
   "cell_type": "markdown",
   "id": "6a79ee90",
   "metadata": {},
   "source": [
    "# List methods"
   ]
  },
  {
   "cell_type": "code",
   "execution_count": 20,
   "id": "1bef6bb9",
   "metadata": {},
   "outputs": [
    {
     "name": "stdout",
     "output_type": "stream",
     "text": [
      "['__add__', '__class__', '__class_getitem__', '__contains__', '__delattr__', '__delitem__', '__dir__', '__doc__', '__eq__', '__format__', '__ge__', '__getattribute__', '__getitem__', '__gt__', '__hash__', '__iadd__', '__imul__', '__init__', '__init_subclass__', '__iter__', '__le__', '__len__', '__lt__', '__mul__', '__ne__', '__new__', '__reduce__', '__reduce_ex__', '__repr__', '__reversed__', '__rmul__', '__setattr__', '__setitem__', '__sizeof__', '__str__', '__subclasshook__', 'append', 'clear', 'copy', 'count', 'extend', 'index', 'insert', 'pop', 'remove', 'reverse', 'sort']\n"
     ]
    }
   ],
   "source": [
    "print(dir(list))\n",
    "# 'append', 'clear', 'copy', 'count', 'extend', 'index', \n",
    "# 'insert', 'pop', 'remove', 'reverse', 'sort'"
   ]
  },
  {
   "cell_type": "code",
   "execution_count": 21,
   "id": "678c0b06",
   "metadata": {},
   "outputs": [
    {
     "name": "stdout",
     "output_type": "stream",
     "text": [
      "[5, 10, 15, 55, 25, 30, 35, 40]\n"
     ]
    }
   ],
   "source": [
    "print(list2)"
   ]
  },
  {
   "cell_type": "markdown",
   "id": "138b4abc",
   "metadata": {},
   "source": [
    "## Append ()"
   ]
  },
  {
   "cell_type": "code",
   "execution_count": 22,
   "id": "11717fe9",
   "metadata": {},
   "outputs": [
    {
     "name": "stdout",
     "output_type": "stream",
     "text": [
      "None\n"
     ]
    }
   ],
   "source": [
    "# If we want to add an object at the end of list we use append function\n",
    "print(list2.append(45))"
   ]
  },
  {
   "cell_type": "code",
   "execution_count": 23,
   "id": "dbef7232",
   "metadata": {},
   "outputs": [
    {
     "name": "stdout",
     "output_type": "stream",
     "text": [
      "Updated list [5, 10, 15, 55, 25, 30, 35, 40, 45]\n"
     ]
    }
   ],
   "source": [
    "print('Updated list',list2)"
   ]
  },
  {
   "cell_type": "markdown",
   "id": "eace0478",
   "metadata": {},
   "source": [
    "## Remove()"
   ]
  },
  {
   "cell_type": "code",
   "execution_count": 24,
   "id": "d9c7ae07",
   "metadata": {},
   "outputs": [
    {
     "ename": "ValueError",
     "evalue": "list.remove(x): x not in list",
     "output_type": "error",
     "traceback": [
      "\u001b[1;31m---------------------------------------------------------------------------\u001b[0m",
      "\u001b[1;31mValueError\u001b[0m                                Traceback (most recent call last)",
      "\u001b[1;32m~\\AppData\\Local\\Temp/ipykernel_19500/1570026566.py\u001b[0m in \u001b[0;36m<module>\u001b[1;34m\u001b[0m\n\u001b[0;32m      1\u001b[0m \u001b[1;31m# for removing an object from the list\u001b[0m\u001b[1;33m\u001b[0m\u001b[1;33m\u001b[0m\u001b[0m\n\u001b[1;32m----> 2\u001b[1;33m \u001b[0mlist2\u001b[0m\u001b[1;33m.\u001b[0m\u001b[0mremove\u001b[0m\u001b[1;33m(\u001b[0m\u001b[1;34m'sameer'\u001b[0m\u001b[1;33m)\u001b[0m\u001b[1;33m\u001b[0m\u001b[1;33m\u001b[0m\u001b[0m\n\u001b[0m\u001b[0;32m      3\u001b[0m \u001b[0mprint\u001b[0m\u001b[1;33m(\u001b[0m\u001b[0mlist2\u001b[0m\u001b[1;33m)\u001b[0m\u001b[1;33m\u001b[0m\u001b[1;33m\u001b[0m\u001b[0m\n",
      "\u001b[1;31mValueError\u001b[0m: list.remove(x): x not in list"
     ]
    }
   ],
   "source": [
    "# for removing an object from the list\n",
    "list2.remove('sameer')\n",
    "print(list2)"
   ]
  },
  {
   "cell_type": "code",
   "execution_count": 25,
   "id": "2b9c19cb",
   "metadata": {},
   "outputs": [
    {
     "name": "stdout",
     "output_type": "stream",
     "text": [
      "[5, 10, 15, 55, 25, 30, 35, 40, 45]\n"
     ]
    }
   ],
   "source": [
    "print(list2)"
   ]
  },
  {
   "cell_type": "code",
   "execution_count": 26,
   "id": "3291388c",
   "metadata": {},
   "outputs": [
    {
     "ename": "ValueError",
     "evalue": "list.remove(x): x not in list",
     "output_type": "error",
     "traceback": [
      "\u001b[1;31m---------------------------------------------------------------------------\u001b[0m",
      "\u001b[1;31mValueError\u001b[0m                                Traceback (most recent call last)",
      "\u001b[1;32m~\\AppData\\Local\\Temp/ipykernel_19500/3137461578.py\u001b[0m in \u001b[0;36m<module>\u001b[1;34m\u001b[0m\n\u001b[0;32m      1\u001b[0m \u001b[1;31m# remove is using to remove one value frm list.\u001b[0m\u001b[1;33m\u001b[0m\u001b[1;33m\u001b[0m\u001b[0m\n\u001b[0;32m      2\u001b[0m \u001b[1;31m# but it remove only one value at a time.\u001b[0m\u001b[1;33m\u001b[0m\u001b[1;33m\u001b[0m\u001b[0m\n\u001b[1;32m----> 3\u001b[1;33m \u001b[0mprint\u001b[0m\u001b[1;33m(\u001b[0m\u001b[0mlist2\u001b[0m\u001b[1;33m.\u001b[0m\u001b[0mremove\u001b[0m\u001b[1;33m(\u001b[0m\u001b[1;34m'r'\u001b[0m\u001b[1;33m)\u001b[0m\u001b[1;33m)\u001b[0m\u001b[1;33m\u001b[0m\u001b[1;33m\u001b[0m\u001b[0m\n\u001b[0m",
      "\u001b[1;31mValueError\u001b[0m: list.remove(x): x not in list"
     ]
    }
   ],
   "source": [
    "# remove is using to remove one value frm list.\n",
    "# but it remove only one value at a time.\n",
    "print(list2.remove('r'))"
   ]
  },
  {
   "cell_type": "code",
   "execution_count": 27,
   "id": "f217c38a",
   "metadata": {},
   "outputs": [
    {
     "name": "stdout",
     "output_type": "stream",
     "text": [
      "[5, 10, 15, 55, 25, 30, 35, 40, 45]\n"
     ]
    }
   ],
   "source": [
    "print(list2)"
   ]
  },
  {
   "cell_type": "markdown",
   "id": "5a51a3e6",
   "metadata": {},
   "source": [
    "## Sort()"
   ]
  },
  {
   "cell_type": "code",
   "execution_count": 28,
   "id": "edefa1b3",
   "metadata": {},
   "outputs": [
    {
     "name": "stdout",
     "output_type": "stream",
     "text": [
      "None\n"
     ]
    }
   ],
   "source": [
    "# sort is using to arrange the list in assending order.\n",
    "print(list2.sort()) # sorting is not possible when your list contains mix of data types"
   ]
  },
  {
   "cell_type": "code",
   "execution_count": 29,
   "id": "83b9bb29",
   "metadata": {},
   "outputs": [
    {
     "data": {
      "text/plain": [
       "[5, 10, 15, 25, 30, 35, 40, 45, 55]"
      ]
     },
     "execution_count": 29,
     "metadata": {},
     "output_type": "execute_result"
    }
   ],
   "source": [
    "list2"
   ]
  },
  {
   "cell_type": "code",
   "execution_count": 22,
   "id": "f12ba78e",
   "metadata": {},
   "outputs": [
    {
     "data": {
      "text/plain": [
       "['GREEN', 'BLACK', 'YELLOW', 'WHITE', 'PURPAL']"
      ]
     },
     "execution_count": 22,
     "metadata": {},
     "output_type": "execute_result"
    }
   ],
   "source": [
    "list1\n"
   ]
  },
  {
   "cell_type": "code",
   "execution_count": 23,
   "id": "49756814",
   "metadata": {},
   "outputs": [],
   "source": [
    "list1.sort() # by default in ascending order"
   ]
  },
  {
   "cell_type": "code",
   "execution_count": 24,
   "id": "6de4f578",
   "metadata": {},
   "outputs": [
    {
     "name": "stdout",
     "output_type": "stream",
     "text": [
      "['BLACK', 'GREEN', 'PURPAL', 'WHITE', 'YELLOW']\n"
     ]
    }
   ],
   "source": [
    "print(list1)"
   ]
  },
  {
   "cell_type": "code",
   "execution_count": 26,
   "id": "0b2ddc32",
   "metadata": {},
   "outputs": [],
   "source": [
    "list1.sort(reverse=True)# descending order "
   ]
  },
  {
   "cell_type": "code",
   "execution_count": 27,
   "id": "d12f588f",
   "metadata": {},
   "outputs": [
    {
     "name": "stdout",
     "output_type": "stream",
     "text": [
      "['YELLOW', 'WHITE', 'PURPAL', 'GREEN', 'BLACK']\n"
     ]
    }
   ],
   "source": [
    "print(list1)"
   ]
  },
  {
   "cell_type": "markdown",
   "id": "05ed1656",
   "metadata": {},
   "source": [
    "## copy()"
   ]
  },
  {
   "cell_type": "code",
   "execution_count": 30,
   "id": "ce5e1546",
   "metadata": {},
   "outputs": [
    {
     "name": "stdout",
     "output_type": "stream",
     "text": [
      "[5, 10, 15, 25, 30, 35, 40, 45, 55]\n"
     ]
    }
   ],
   "source": [
    "list5=list2\n",
    "print(list5)"
   ]
  },
  {
   "cell_type": "code",
   "execution_count": 31,
   "id": "6ff74860",
   "metadata": {},
   "outputs": [
    {
     "name": "stdout",
     "output_type": "stream",
     "text": [
      "None\n",
      "[5, 10, 15, 25, 30, 35, 40, 45, 55, 2033]\n"
     ]
    }
   ],
   "source": [
    "print(list5.append(2033))\n",
    "print(list5)"
   ]
  },
  {
   "cell_type": "code",
   "execution_count": 32,
   "id": "0955317c",
   "metadata": {},
   "outputs": [
    {
     "name": "stdout",
     "output_type": "stream",
     "text": [
      "[5, 10, 15, 25, 30, 35, 40, 45, 55, 2033]\n",
      "[5, 10, 15, 25, 30, 35, 40, 45, 55, 2033]\n"
     ]
    }
   ],
   "source": [
    "print(list2,list5, sep = '\\n')"
   ]
  },
  {
   "cell_type": "code",
   "execution_count": 33,
   "id": "53b8b49d",
   "metadata": {},
   "outputs": [
    {
     "name": "stdout",
     "output_type": "stream",
     "text": [
      "2355417003136\n",
      "2355417003136\n"
     ]
    }
   ],
   "source": [
    "# both the lists are pointing to the same memory location\n",
    "print(id(list2),id(list5), sep = '\\n')"
   ]
  },
  {
   "cell_type": "code",
   "execution_count": 34,
   "id": "2a8376dc",
   "metadata": {},
   "outputs": [],
   "source": [
    "# letr's use copy()\n",
    "list5=list2.copy()"
   ]
  },
  {
   "cell_type": "code",
   "execution_count": 35,
   "id": "718faee3",
   "metadata": {},
   "outputs": [
    {
     "name": "stdout",
     "output_type": "stream",
     "text": [
      "2355417003136\n",
      "2355416825920\n"
     ]
    }
   ],
   "source": [
    "print(id(list2),id(list5), sep = '\\n')"
   ]
  },
  {
   "cell_type": "markdown",
   "id": "2f2270a0",
   "metadata": {},
   "source": [
    "## Count()"
   ]
  },
  {
   "cell_type": "code",
   "execution_count": 36,
   "id": "eb1e8191",
   "metadata": {},
   "outputs": [
    {
     "name": "stdout",
     "output_type": "stream",
     "text": [
      "1\n",
      "0\n",
      "1\n"
     ]
    }
   ],
   "source": [
    "#  function of count is use when want to count an object in list ie: how many times an object is repeting itself  \n",
    "print(list2.count(5))\n",
    "print(list2.count(12))\n",
    "print(list2.count(10))"
   ]
  },
  {
   "cell_type": "markdown",
   "id": "e72f067c",
   "metadata": {},
   "source": [
    "## Reverse()"
   ]
  },
  {
   "cell_type": "code",
   "execution_count": 3,
   "id": "675eb776",
   "metadata": {},
   "outputs": [
    {
     "name": "stdout",
     "output_type": "stream",
     "text": [
      "None\n"
     ]
    }
   ],
   "source": [
    "# for reversing the list\n",
    "\n",
    "print(list2.reverse())"
   ]
  },
  {
   "cell_type": "markdown",
   "id": "69128fbc",
   "metadata": {},
   "source": [
    "# extend()"
   ]
  },
  {
   "cell_type": "code",
   "execution_count": 38,
   "id": "789666e6",
   "metadata": {},
   "outputs": [],
   "source": [
    "list2.extend('asd')"
   ]
  },
  {
   "cell_type": "code",
   "execution_count": 39,
   "id": "388af065",
   "metadata": {},
   "outputs": [
    {
     "name": "stdout",
     "output_type": "stream",
     "text": [
      "[2033, 55, 45, 40, 35, 30, 25, 15, 10, 5, 'a', 's', 'd']\n"
     ]
    }
   ],
   "source": [
    "print(list2)"
   ]
  },
  {
   "cell_type": "code",
   "execution_count": 40,
   "id": "f9a1a124",
   "metadata": {},
   "outputs": [
    {
     "ename": "TypeError",
     "evalue": "list.extend() takes exactly one argument (3 given)",
     "output_type": "error",
     "traceback": [
      "\u001b[1;31m---------------------------------------------------------------------------\u001b[0m",
      "\u001b[1;31mTypeError\u001b[0m                                 Traceback (most recent call last)",
      "\u001b[1;32m~\\AppData\\Local\\Temp/ipykernel_19500/666822542.py\u001b[0m in \u001b[0;36m<module>\u001b[1;34m\u001b[0m\n\u001b[1;32m----> 1\u001b[1;33m \u001b[0mlist2\u001b[0m\u001b[1;33m.\u001b[0m\u001b[0mextend\u001b[0m\u001b[1;33m(\u001b[0m\u001b[1;32mTrue\u001b[0m\u001b[1;33m,\u001b[0m\u001b[1;32mFalse\u001b[0m\u001b[1;33m,\u001b[0m\u001b[1;34m'22-3-2200'\u001b[0m\u001b[1;33m)\u001b[0m\u001b[1;33m\u001b[0m\u001b[1;33m\u001b[0m\u001b[0m\n\u001b[0m",
      "\u001b[1;31mTypeError\u001b[0m: list.extend() takes exactly one argument (3 given)"
     ]
    }
   ],
   "source": [
    "list2.extend(True,False,'22-3-2200')"
   ]
  },
  {
   "cell_type": "markdown",
   "id": "0efbbb57",
   "metadata": {},
   "source": [
    "## Index()"
   ]
  },
  {
   "cell_type": "code",
   "execution_count": 7,
   "id": "0ff65be6",
   "metadata": {},
   "outputs": [],
   "source": [
    "list1=[\"GREEN\",\"BLACK\",\"YELLOW\",\"WHITE\",\"PURPAL\",]\n"
   ]
  },
  {
   "cell_type": "code",
   "execution_count": 11,
   "id": "d8a32a91",
   "metadata": {},
   "outputs": [
    {
     "name": "stdout",
     "output_type": "stream",
     "text": [
      "1\n",
      "4\n"
     ]
    }
   ],
   "source": [
    "print(list1.index('BLACK'))\n",
    "print(list1.index('PURPAL'))"
   ]
  },
  {
   "cell_type": "markdown",
   "id": "c93737ca",
   "metadata": {},
   "source": [
    "## pop()\n"
   ]
  },
  {
   "cell_type": "code",
   "execution_count": 12,
   "id": "59b6716e",
   "metadata": {},
   "outputs": [
    {
     "data": {
      "text/plain": [
       "'PURPAL'"
      ]
     },
     "execution_count": 12,
     "metadata": {},
     "output_type": "execute_result"
    }
   ],
   "source": [
    "list1.pop()"
   ]
  },
  {
   "cell_type": "code",
   "execution_count": 14,
   "id": "dd1b9530",
   "metadata": {},
   "outputs": [
    {
     "name": "stdout",
     "output_type": "stream",
     "text": [
      "['GREEN', 'BLACK', 'YELLOW']\n"
     ]
    }
   ],
   "source": [
    "print(list1)"
   ]
  },
  {
   "cell_type": "code",
   "execution_count": 13,
   "id": "3142abf7",
   "metadata": {},
   "outputs": [
    {
     "data": {
      "text/plain": [
       "'WHITE'"
      ]
     },
     "execution_count": 13,
     "metadata": {},
     "output_type": "execute_result"
    }
   ],
   "source": [
    "list1.pop(3)"
   ]
  },
  {
   "cell_type": "code",
   "execution_count": 15,
   "id": "a7fd3277",
   "metadata": {},
   "outputs": [
    {
     "name": "stdout",
     "output_type": "stream",
     "text": [
      "['GREEN', 'BLACK', 'YELLOW']\n"
     ]
    }
   ],
   "source": [
    "print(list1)"
   ]
  },
  {
   "cell_type": "markdown",
   "id": "916c1edc",
   "metadata": {},
   "source": [
    "## remove()\n"
   ]
  },
  {
   "cell_type": "code",
   "execution_count": 16,
   "id": "1fa9ab6f",
   "metadata": {},
   "outputs": [],
   "source": [
    "list1.remove('BLACK')"
   ]
  },
  {
   "cell_type": "code",
   "execution_count": 17,
   "id": "87f3653e",
   "metadata": {},
   "outputs": [
    {
     "name": "stdout",
     "output_type": "stream",
     "text": [
      "['GREEN', 'YELLOW']\n"
     ]
    }
   ],
   "source": [
    "print(list1)"
   ]
  },
  {
   "cell_type": "code",
   "execution_count": 18,
   "id": "25e36c27",
   "metadata": {},
   "outputs": [],
   "source": [
    "list1.remove('YELLOW')"
   ]
  },
  {
   "cell_type": "code",
   "execution_count": 19,
   "id": "9943b95b",
   "metadata": {},
   "outputs": [
    {
     "name": "stdout",
     "output_type": "stream",
     "text": [
      "['GREEN']\n"
     ]
    }
   ],
   "source": [
    "print(list1)"
   ]
  },
  {
   "cell_type": "markdown",
   "id": "1ff4ba4d",
   "metadata": {},
   "source": [
    "## clear()"
   ]
  },
  {
   "cell_type": "code",
   "execution_count": 28,
   "id": "0574556a",
   "metadata": {},
   "outputs": [],
   "source": [
    "list1.clear()"
   ]
  },
  {
   "cell_type": "code",
   "execution_count": 29,
   "id": "182e174d",
   "metadata": {},
   "outputs": [
    {
     "name": "stdout",
     "output_type": "stream",
     "text": [
      "[]\n"
     ]
    }
   ],
   "source": [
    "print(list1)"
   ]
  },
  {
   "cell_type": "markdown",
   "id": "8b9b98b6",
   "metadata": {},
   "source": [
    "## Operators on List\n",
    "* Operators like + and * on lists work in the similar way of strings.\n",
    "\n",
    "`+` - Concatenation. `*` - Repetition.\n",
    "\n",
    "* Membership operator works on list as well with keywords - in and not in."
   ]
  },
  {
   "cell_type": "code",
   "execution_count": 32,
   "id": "18081a21",
   "metadata": {},
   "outputs": [
    {
     "name": "stdout",
     "output_type": "stream",
     "text": [
      "['GREEN', 'BLACK', 'YELLOW', 'WHITE', 'PURPAL', 5, 10, 15, 20, 25, 30, 35, 40]\n"
     ]
    }
   ],
   "source": [
    "list1+list2\n",
    "print(list1+list2)"
   ]
  },
  {
   "cell_type": "code",
   "execution_count": 33,
   "id": "cff19249",
   "metadata": {},
   "outputs": [
    {
     "name": "stdout",
     "output_type": "stream",
     "text": [
      "['GREEN', 'BLACK', 'YELLOW', 'WHITE', 'PURPAL', 5, 10, 15, 20, 25, 30, 35, 40]\n"
     ]
    }
   ],
   "source": [
    "# other method of concatenation \n",
    "list3=list1+list2\n",
    "print(list3)\n"
   ]
  },
  {
   "cell_type": "code",
   "execution_count": 34,
   "id": "9838526a",
   "metadata": {},
   "outputs": [
    {
     "name": "stdout",
     "output_type": "stream",
     "text": [
      "['GREEN', 'BLACK', 'YELLOW', 'WHITE', 'PURPAL', 'GREEN', 'BLACK', 'YELLOW', 'WHITE', 'PURPAL', 'GREEN', 'BLACK', 'YELLOW', 'WHITE', 'PURPAL']\n"
     ]
    }
   ],
   "source": [
    "list1*3\n",
    "print(list1*3)"
   ]
  },
  {
   "cell_type": "code",
   "execution_count": 35,
   "id": "5c45e526",
   "metadata": {},
   "outputs": [
    {
     "data": {
      "text/plain": [
       "True"
      ]
     },
     "execution_count": 35,
     "metadata": {},
     "output_type": "execute_result"
    }
   ],
   "source": [
    "'GREEN' in list1"
   ]
  },
  {
   "cell_type": "code",
   "execution_count": 36,
   "id": "1d2380a5",
   "metadata": {},
   "outputs": [
    {
     "data": {
      "text/plain": [
       "True"
      ]
     },
     "execution_count": 36,
     "metadata": {},
     "output_type": "execute_result"
    }
   ],
   "source": [
    "30 in list2 "
   ]
  },
  {
   "cell_type": "code",
   "execution_count": 37,
   "id": "49116481",
   "metadata": {},
   "outputs": [
    {
     "data": {
      "text/plain": [
       "False"
      ]
     },
     "execution_count": 37,
     "metadata": {},
     "output_type": "execute_result"
    }
   ],
   "source": [
    "15 not in list2"
   ]
  },
  {
   "cell_type": "markdown",
   "id": "77c63082",
   "metadata": {},
   "source": [
    "# Built-in List Functions"
   ]
  },
  {
   "cell_type": "markdown",
   "id": "fab383d9",
   "metadata": {},
   "source": [
    "## length()"
   ]
  },
  {
   "cell_type": "code",
   "execution_count": 56,
   "id": "0ae919e2",
   "metadata": {},
   "outputs": [
    {
     "data": {
      "text/plain": [
       "10"
      ]
     },
     "execution_count": 56,
     "metadata": {},
     "output_type": "execute_result"
    }
   ],
   "source": [
    "len(list2)"
   ]
  },
  {
   "cell_type": "code",
   "execution_count": 67,
   "id": "e4d0a13b",
   "metadata": {},
   "outputs": [
    {
     "data": {
      "text/plain": [
       "[5, 10, 15, 25, 30, 35, 40, 45, 55, 67]"
      ]
     },
     "execution_count": 67,
     "metadata": {},
     "output_type": "execute_result"
    }
   ],
   "source": [
    "list2."
   ]
  },
  {
   "cell_type": "markdown",
   "id": "f38c4587",
   "metadata": {},
   "source": [
    "## max & min"
   ]
  },
  {
   "cell_type": "code",
   "execution_count": 69,
   "id": "943b0aa2",
   "metadata": {},
   "outputs": [
    {
     "name": "stdout",
     "output_type": "stream",
     "text": [
      "67\n",
      "5\n"
     ]
    }
   ],
   "source": [
    "print(max(list2))\n",
    "print(min(list2))"
   ]
  },
  {
   "cell_type": "markdown",
   "id": "670edb16",
   "metadata": {},
   "source": [
    "# list()"
   ]
  },
  {
   "cell_type": "code",
   "execution_count": 41,
   "id": "f7e7e05c",
   "metadata": {},
   "outputs": [
    {
     "data": {
      "text/plain": [
       "['P', 'Y', 'T', 'H', 'O', 'N']"
      ]
     },
     "execution_count": 41,
     "metadata": {},
     "output_type": "execute_result"
    }
   ],
   "source": [
    "list('PYTHON')# converts an iterable into a list object"
   ]
  },
  {
   "cell_type": "markdown",
   "id": "03844249",
   "metadata": {},
   "source": [
    "# Operators on List"
   ]
  },
  {
   "cell_type": "markdown",
   "id": "5c50e794",
   "metadata": {},
   "source": [
    "## help() in Python\n"
   ]
  },
  {
   "cell_type": "code",
   "execution_count": 1,
   "id": "d83f0571",
   "metadata": {},
   "outputs": [
    {
     "name": "stdout",
     "output_type": "stream",
     "text": [
      "Help on built-in function print in module builtins:\n",
      "\n",
      "print(...)\n",
      "    print(value, ..., sep=' ', end='\\n', file=sys.stdout, flush=False)\n",
      "    \n",
      "    Prints the values to a stream, or to sys.stdout by default.\n",
      "    Optional keyword arguments:\n",
      "    file:  a file-like object (stream); defaults to the current sys.stdout.\n",
      "    sep:   string inserted between values, default a space.\n",
      "    end:   string appended after the last value, default a newline.\n",
      "    flush: whether to forcibly flush the stream.\n",
      "\n"
     ]
    }
   ],
   "source": [
    "help(print)"
   ]
  },
  {
   "cell_type": "code",
   "execution_count": 2,
   "id": "aa967265",
   "metadata": {},
   "outputs": [
    {
     "name": "stdout",
     "output_type": "stream",
     "text": [
      "\n",
      "Here is a list of the Python keywords.  Enter any keyword to get more help.\n",
      "\n",
      "False               break               for                 not\n",
      "None                class               from                or\n",
      "True                continue            global              pass\n",
      "__peg_parser__      def                 if                  raise\n",
      "and                 del                 import              return\n",
      "as                  elif                in                  try\n",
      "assert              else                is                  while\n",
      "async               except              lambda              with\n",
      "await               finally             nonlocal            yield\n",
      "\n"
     ]
    }
   ],
   "source": [
    "help('keywords')"
   ]
  },
  {
   "cell_type": "code",
   "execution_count": 3,
   "id": "e754cf5e",
   "metadata": {},
   "outputs": [
    {
     "name": "stdout",
     "output_type": "stream",
     "text": [
      "\n",
      "Here is a list of the Python keywords.  Enter any keyword to get more help.\n",
      "\n",
      "False               break               for                 not\n",
      "None                class               from                or\n",
      "True                continue            global              pass\n",
      "__peg_parser__      def                 if                  raise\n",
      "and                 del                 import              return\n",
      "as                  elif                in                  try\n",
      "assert              else                is                  while\n",
      "async               except              lambda              with\n",
      "await               finally             nonlocal            yield\n",
      "\n"
     ]
    }
   ],
   "source": [
    "help('keywords')"
   ]
  },
  {
   "cell_type": "markdown",
   "id": "88b787ad",
   "metadata": {},
   "source": [
    "# Tuple"
   ]
  },
  {
   "cell_type": "markdown",
   "id": "1323e849",
   "metadata": {},
   "source": [
    "* Written with () braces.\n",
    "* Indexing is allowed.\n",
    "* Data is unchangeable (immutable).\n",
    "* Duplicates are allowed."
   ]
  },
  {
   "cell_type": "markdown",
   "id": "b9f57e57",
   "metadata": {},
   "source": [
    "### Create a tuple"
   ]
  },
  {
   "cell_type": "code",
   "execution_count": 42,
   "id": "874e7fa5",
   "metadata": {},
   "outputs": [],
   "source": [
    "# A tuple can be created in two ways\n",
    "\n",
    "# approach 1\n",
    "tup1=('banana','pineapple','blackberry','mango','apple',)\n",
    "\n",
    "## approach 2\n",
    "tup2=(34,56,23,98,78,98,34,56) # Duplicates are allowed"
   ]
  },
  {
   "cell_type": "code",
   "execution_count": 43,
   "id": "13c2d04f",
   "metadata": {},
   "outputs": [
    {
     "name": "stdout",
     "output_type": "stream",
     "text": [
      "('banana', 'pineapple', 'blackberry', 'mango', 'apple')\n",
      "(34, 56, 23, 98, 78, 98, 34, 56)\n"
     ]
    }
   ],
   "source": [
    "print(tup1, tup2, sep='\\n')\n"
   ]
  },
  {
   "cell_type": "code",
   "execution_count": 44,
   "id": "208146bc",
   "metadata": {},
   "outputs": [
    {
     "name": "stdout",
     "output_type": "stream",
     "text": [
      "<class 'tuple'>\n",
      "<class 'tuple'>\n"
     ]
    }
   ],
   "source": [
    "print(type(tup1),type( tup2), sep='\\n')"
   ]
  },
  {
   "cell_type": "markdown",
   "id": "c1c3f6f9",
   "metadata": {},
   "source": [
    "## Tuple Indexing"
   ]
  },
  {
   "cell_type": "code",
   "execution_count": 50,
   "id": "c7ff0389",
   "metadata": {},
   "outputs": [
    {
     "name": "stdout",
     "output_type": "stream",
     "text": [
      "pineapple\n",
      "apple\n"
     ]
    }
   ],
   "source": [
    "print(tup1[1])\n",
    "print(tup1[4])"
   ]
  },
  {
   "cell_type": "markdown",
   "id": "b9b70929",
   "metadata": {},
   "source": [
    "## Changing tuple items"
   ]
  },
  {
   "cell_type": "code",
   "execution_count": 51,
   "id": "ecfbfae3",
   "metadata": {},
   "outputs": [
    {
     "name": "stdout",
     "output_type": "stream",
     "text": [
      "('banana', 'pineapple', 'blackberry', 'mango', 'apple')\n"
     ]
    }
   ],
   "source": [
    "print(tup1)"
   ]
  },
  {
   "cell_type": "code",
   "execution_count": 53,
   "id": "182cb585",
   "metadata": {},
   "outputs": [
    {
     "ename": "TypeError",
     "evalue": "'tuple' object does not support item assignment",
     "output_type": "error",
     "traceback": [
      "\u001b[1;31m---------------------------------------------------------------------------\u001b[0m",
      "\u001b[1;31mTypeError\u001b[0m                                 Traceback (most recent call last)",
      "\u001b[1;32m~\\AppData\\Local\\Temp/ipykernel_17312/1320840457.py\u001b[0m in \u001b[0;36m<module>\u001b[1;34m\u001b[0m\n\u001b[1;32m----> 1\u001b[1;33m \u001b[0mtup1\u001b[0m\u001b[1;33m[\u001b[0m\u001b[1;36m2\u001b[0m\u001b[1;33m]\u001b[0m\u001b[1;33m=\u001b[0m\u001b[1;34m'graps'\u001b[0m\u001b[1;31m# Tuples are immutable\u001b[0m\u001b[1;33m\u001b[0m\u001b[1;33m\u001b[0m\u001b[0m\n\u001b[0m",
      "\u001b[1;31mTypeError\u001b[0m: 'tuple' object does not support item assignment"
     ]
    }
   ],
   "source": [
    "tup1[2]='graps'# Tuples are immutable"
   ]
  },
  {
   "cell_type": "markdown",
   "id": "95efc198",
   "metadata": {},
   "source": [
    "## Tuple methods"
   ]
  },
  {
   "cell_type": "code",
   "execution_count": 54,
   "id": "0f822075",
   "metadata": {},
   "outputs": [
    {
     "name": "stdout",
     "output_type": "stream",
     "text": [
      "['__add__', '__class__', '__class_getitem__', '__contains__', '__delattr__', '__dir__', '__doc__', '__eq__', '__format__', '__ge__', '__getattribute__', '__getitem__', '__getnewargs__', '__gt__', '__hash__', '__init__', '__init_subclass__', '__iter__', '__le__', '__len__', '__lt__', '__mul__', '__ne__', '__new__', '__reduce__', '__reduce_ex__', '__repr__', '__rmul__', '__setattr__', '__sizeof__', '__str__', '__subclasshook__', 'count', 'index']\n"
     ]
    }
   ],
   "source": [
    "print(dir(tuple))"
   ]
  },
  {
   "cell_type": "code",
   "execution_count": 56,
   "id": "aadfdd15",
   "metadata": {},
   "outputs": [
    {
     "name": "stdout",
     "output_type": "stream",
     "text": [
      "1\n",
      "4\n"
     ]
    }
   ],
   "source": [
    "# 'count', 'index'\n",
    "\n",
    "print(tup1.count('apple'))\n",
    "\n",
    "print(tup1.index('apple'))\n"
   ]
  },
  {
   "cell_type": "markdown",
   "id": "0c728050",
   "metadata": {},
   "source": [
    "## Operators on Tuple\n",
    "* Operators like + and * on tuple work in the similar way of strings.\n",
    "\n",
    "`+` - Concatenation. `*` - Repetition.\n",
    "\n",
    "* Membership operator works on tuple as well with keywords - `in` and `not in`."
   ]
  },
  {
   "cell_type": "code",
   "execution_count": 57,
   "id": "de7982eb",
   "metadata": {},
   "outputs": [
    {
     "name": "stdout",
     "output_type": "stream",
     "text": [
      "('banana', 'pineapple', 'blackberry', 'mango', 'apple', 34, 56, 23, 98, 78, 98, 34, 56)\n"
     ]
    }
   ],
   "source": [
    "tup1+tup2\n",
    "print(tup1+tup2)"
   ]
  },
  {
   "cell_type": "code",
   "execution_count": 58,
   "id": "a62725ad",
   "metadata": {},
   "outputs": [
    {
     "name": "stdout",
     "output_type": "stream",
     "text": [
      "('banana', 'pineapple', 'blackberry', 'mango', 'apple', 'banana', 'pineapple', 'blackberry', 'mango', 'apple', 'banana', 'pineapple', 'blackberry', 'mango', 'apple')\n"
     ]
    }
   ],
   "source": [
    "print(tup1*3)"
   ]
  },
  {
   "cell_type": "code",
   "execution_count": 59,
   "id": "79fdf652",
   "metadata": {},
   "outputs": [
    {
     "data": {
      "text/plain": [
       "True"
      ]
     },
     "execution_count": 59,
     "metadata": {},
     "output_type": "execute_result"
    }
   ],
   "source": [
    "'banana' in tup1"
   ]
  },
  {
   "cell_type": "code",
   "execution_count": 60,
   "id": "cae42059",
   "metadata": {},
   "outputs": [
    {
     "data": {
      "text/plain": [
       "False"
      ]
     },
     "execution_count": 60,
     "metadata": {},
     "output_type": "execute_result"
    }
   ],
   "source": [
    "'graps' in tup1"
   ]
  },
  {
   "cell_type": "code",
   "execution_count": 61,
   "id": "1a59c7c6",
   "metadata": {},
   "outputs": [
    {
     "data": {
      "text/plain": [
       "True"
      ]
     },
     "execution_count": 61,
     "metadata": {},
     "output_type": "execute_result"
    }
   ],
   "source": [
    "56 in tup2"
   ]
  },
  {
   "cell_type": "markdown",
   "id": "5d5f7015",
   "metadata": {},
   "source": [
    "## Built-in Tuple functions"
   ]
  },
  {
   "cell_type": "code",
   "execution_count": 62,
   "id": "92fabd8e",
   "metadata": {},
   "outputs": [
    {
     "data": {
      "text/plain": [
       "5"
      ]
     },
     "execution_count": 62,
     "metadata": {},
     "output_type": "execute_result"
    }
   ],
   "source": [
    "len(tup1)"
   ]
  },
  {
   "cell_type": "code",
   "execution_count": 64,
   "id": "cf581c31",
   "metadata": {},
   "outputs": [
    {
     "name": "stdout",
     "output_type": "stream",
     "text": [
      "pineapple\n",
      "23\n"
     ]
    }
   ],
   "source": [
    "print(max(tup1))\n",
    "\n",
    "print(min(tup2))"
   ]
  },
  {
   "cell_type": "markdown",
   "id": "a6ac2c2e",
   "metadata": {},
   "source": [
    "# tuple()"
   ]
  },
  {
   "cell_type": "code",
   "execution_count": 65,
   "id": "01595f21",
   "metadata": {},
   "outputs": [
    {
     "data": {
      "text/plain": [
       "('P', 'Y', 'T', 'H', 'O', 'N')"
      ]
     },
     "execution_count": 65,
     "metadata": {},
     "output_type": "execute_result"
    }
   ],
   "source": [
    "tuple('PYTHON')"
   ]
  },
  {
   "cell_type": "code",
   "execution_count": 66,
   "id": "9eb2719d",
   "metadata": {},
   "outputs": [
    {
     "name": "stdout",
     "output_type": "stream",
     "text": [
      "('GREEN', 'BLACK', 'YELLOW', 'WHITE', 'PURPAL')\n"
     ]
    }
   ],
   "source": [
    "print(tuple(list1)) # list to tuple"
   ]
  },
  {
   "cell_type": "code",
   "execution_count": 68,
   "id": "f58fb4ce",
   "metadata": {},
   "outputs": [
    {
     "name": "stdout",
     "output_type": "stream",
     "text": [
      "[34, 56, 23, 98, 78, 98, 34, 56]\n"
     ]
    }
   ],
   "source": [
    "print(list(tup2)) # tuple into list"
   ]
  },
  {
   "cell_type": "code",
   "execution_count": 69,
   "id": "033c48e0",
   "metadata": {},
   "outputs": [
    {
     "ename": "AttributeError",
     "evalue": "'tuple' object has no attribute 'append'",
     "output_type": "error",
     "traceback": [
      "\u001b[1;31m---------------------------------------------------------------------------\u001b[0m",
      "\u001b[1;31mAttributeError\u001b[0m                            Traceback (most recent call last)",
      "\u001b[1;32m~\\AppData\\Local\\Temp/ipykernel_17312/1215802863.py\u001b[0m in \u001b[0;36m<module>\u001b[1;34m\u001b[0m\n\u001b[0;32m      1\u001b[0m \u001b[1;31m# add a new element to the tuple\u001b[0m\u001b[1;33m\u001b[0m\u001b[1;33m\u001b[0m\u001b[0m\n\u001b[0;32m      2\u001b[0m \u001b[1;33m\u001b[0m\u001b[0m\n\u001b[1;32m----> 3\u001b[1;33m \u001b[0mtup2\u001b[0m\u001b[1;33m.\u001b[0m\u001b[0mappend\u001b[0m\u001b[1;33m(\u001b[0m\u001b[1;36m225\u001b[0m\u001b[1;33m)\u001b[0m\u001b[1;33m\u001b[0m\u001b[1;33m\u001b[0m\u001b[0m\n\u001b[0m",
      "\u001b[1;31mAttributeError\u001b[0m: 'tuple' object has no attribute 'append'"
     ]
    }
   ],
   "source": [
    "# add a new element to the tuple\n",
    "\n",
    "tup2.append(225)"
   ]
  },
  {
   "cell_type": "markdown",
   "id": "05deec20",
   "metadata": {},
   "source": [
    "# Create Tuple With One Item"
   ]
  },
  {
   "cell_type": "code",
   "execution_count": 1,
   "id": "d2ec408d",
   "metadata": {},
   "outputs": [],
   "source": [
    "# create a list with one item\n",
    "mylist1 = ['python']"
   ]
  },
  {
   "cell_type": "code",
   "execution_count": 3,
   "id": "9076d849",
   "metadata": {},
   "outputs": [
    {
     "name": "stdout",
     "output_type": "stream",
     "text": [
      "['python']\n",
      "1\n"
     ]
    }
   ],
   "source": [
    "print(mylist1,len(mylist1),sep='\\n')"
   ]
  },
  {
   "cell_type": "code",
   "execution_count": 5,
   "id": "a8e474c4",
   "metadata": {},
   "outputs": [
    {
     "name": "stdout",
     "output_type": "stream",
     "text": [
      "python\n",
      "<class 'str'>\n"
     ]
    }
   ],
   "source": [
    "tup1=('python')\n",
    "print(tup1,type(tup1),sep='\\n')"
   ]
  },
  {
   "cell_type": "code",
   "execution_count": 6,
   "id": "9824b57b",
   "metadata": {},
   "outputs": [
    {
     "name": "stdout",
     "output_type": "stream",
     "text": [
      "('python',)\n",
      "<class 'tuple'>\n",
      "5\n",
      "<class 'int'>\n",
      "(5,)\n",
      "<class 'tuple'>\n"
     ]
    }
   ],
   "source": [
    "mytup1 = ('python',)\n",
    "print(mytup1, type(mytup1), sep='\\n')\n",
    "\n",
    "mytup2 = (5)\n",
    "print(mytup2, type(mytup2), sep='\\n')\n",
    "\n",
    "mytup2 = (5,)\n",
    "print(mytup2, type(mytup2), sep='\\n')"
   ]
  },
  {
   "cell_type": "markdown",
   "id": "df1e354b",
   "metadata": {},
   "source": [
    "\n",
    "# set{}"
   ]
  },
  {
   "cell_type": "markdown",
   "id": "2323d0aa",
   "metadata": {},
   "source": [
    "* Written `with` {} braces.\n",
    "* Unindexed.\n",
    "* Data is unchangeable (immutable). But we can add/remove data.\n",
    "* Duplicates are not allowed."
   ]
  },
  {
   "cell_type": "markdown",
   "id": "3cbe5c8c",
   "metadata": {},
   "source": [
    "## Create a Set"
   ]
  },
  {
   "cell_type": "code",
   "execution_count": 7,
   "id": "aaf5adca",
   "metadata": {},
   "outputs": [],
   "source": [
    "set1={'green','black','white','yellow','voilet'}"
   ]
  },
  {
   "cell_type": "code",
   "execution_count": 9,
   "id": "a60fe11d",
   "metadata": {},
   "outputs": [
    {
     "name": "stdout",
     "output_type": "stream",
     "text": [
      "{'white', 'voilet', 'black', 'green', 'yellow'}\n",
      "<class 'set'>\n"
     ]
    }
   ],
   "source": [
    "# check the type of set\n",
    "print(set1,type(set1),sep='\\n')"
   ]
  },
  {
   "cell_type": "markdown",
   "id": "650be07d",
   "metadata": {},
   "source": [
    "## Indexing a Set"
   ]
  },
  {
   "cell_type": "code",
   "execution_count": 11,
   "id": "e8aa406c",
   "metadata": {},
   "outputs": [
    {
     "ename": "TypeError",
     "evalue": "'set' object is not subscriptable",
     "output_type": "error",
     "traceback": [
      "\u001b[1;31m---------------------------------------------------------------------------\u001b[0m",
      "\u001b[1;31mTypeError\u001b[0m                                 Traceback (most recent call last)",
      "\u001b[1;32m~\\AppData\\Local\\Temp/ipykernel_2848/91567059.py\u001b[0m in \u001b[0;36m<module>\u001b[1;34m\u001b[0m\n\u001b[1;32m----> 1\u001b[1;33m \u001b[0mset1\u001b[0m\u001b[1;33m[\u001b[0m\u001b[1;36m3\u001b[0m\u001b[1;33m]\u001b[0m\u001b[1;33m\u001b[0m\u001b[1;33m\u001b[0m\u001b[0m\n\u001b[0m",
      "\u001b[1;31mTypeError\u001b[0m: 'set' object is not subscriptable"
     ]
    }
   ],
   "source": [
    "set1[3]"
   ]
  },
  {
   "cell_type": "markdown",
   "id": "382acaa2",
   "metadata": {},
   "source": [
    "## Changing the set items"
   ]
  },
  {
   "cell_type": "code",
   "execution_count": 12,
   "id": "9147f830",
   "metadata": {},
   "outputs": [
    {
     "ename": "TypeError",
     "evalue": "'set' object does not support item assignment",
     "output_type": "error",
     "traceback": [
      "\u001b[1;31m---------------------------------------------------------------------------\u001b[0m",
      "\u001b[1;31mTypeError\u001b[0m                                 Traceback (most recent call last)",
      "\u001b[1;32m~\\AppData\\Local\\Temp/ipykernel_2848/1422936162.py\u001b[0m in \u001b[0;36m<module>\u001b[1;34m\u001b[0m\n\u001b[0;32m      1\u001b[0m \u001b[1;31m# Set is immutable\u001b[0m\u001b[1;33m\u001b[0m\u001b[1;33m\u001b[0m\u001b[0m\n\u001b[0;32m      2\u001b[0m \u001b[1;33m\u001b[0m\u001b[0m\n\u001b[1;32m----> 3\u001b[1;33m \u001b[0mset1\u001b[0m\u001b[1;33m[\u001b[0m\u001b[1;36m2\u001b[0m\u001b[1;33m]\u001b[0m \u001b[1;33m=\u001b[0m \u001b[1;34m'BLACK'\u001b[0m\u001b[1;33m\u001b[0m\u001b[1;33m\u001b[0m\u001b[0m\n\u001b[0m",
      "\u001b[1;31mTypeError\u001b[0m: 'set' object does not support item assignment"
     ]
    }
   ],
   "source": [
    "# Set is immutable\n",
    "\n",
    "set1[2] = 'BLACK'"
   ]
  },
  {
   "cell_type": "markdown",
   "id": "fc4415f5",
   "metadata": {},
   "source": [
    "### Remove Duplicates from a list"
   ]
  },
  {
   "cell_type": "code",
   "execution_count": 13,
   "id": "c5aa14c5",
   "metadata": {},
   "outputs": [
    {
     "name": "stdout",
     "output_type": "stream",
     "text": [
      "['black', 'white', 'grey', 'silver', 'maroon', 'white', 'black']\n"
     ]
    }
   ],
   "source": [
    "u= [\"black\", \"white\", \"grey\", \"silver\", \"maroon\", 'white', 'black']\n",
    "print(u)"
   ]
  },
  {
   "cell_type": "code",
   "execution_count": 15,
   "id": "6388d02d",
   "metadata": {},
   "outputs": [
    {
     "name": "stdout",
     "output_type": "stream",
     "text": [
      "['white', 'grey', 'silver', 'maroon', 'black']\n"
     ]
    }
   ],
   "source": [
    "u= list(set(u))\n",
    "print(u)"
   ]
  },
  {
   "cell_type": "markdown",
   "id": "addfc0ce",
   "metadata": {},
   "source": [
    "### Set methods"
   ]
  },
  {
   "cell_type": "code",
   "execution_count": 16,
   "id": "fe3c9ed9",
   "metadata": {},
   "outputs": [
    {
     "name": "stdout",
     "output_type": "stream",
     "text": [
      "['__and__', '__class__', '__class_getitem__', '__contains__', '__delattr__', '__dir__', '__doc__', '__eq__', '__format__', '__ge__', '__getattribute__', '__gt__', '__hash__', '__iand__', '__init__', '__init_subclass__', '__ior__', '__isub__', '__iter__', '__ixor__', '__le__', '__len__', '__lt__', '__ne__', '__new__', '__or__', '__rand__', '__reduce__', '__reduce_ex__', '__repr__', '__ror__', '__rsub__', '__rxor__', '__setattr__', '__sizeof__', '__str__', '__sub__', '__subclasshook__', '__xor__', 'add', 'clear', 'copy', 'difference', 'difference_update', 'discard', 'intersection', 'intersection_update', 'isdisjoint', 'issubset', 'issuperset', 'pop', 'remove', 'symmetric_difference', 'symmetric_difference_update', 'union', 'update']\n"
     ]
    }
   ],
   "source": [
    "print(dir(set))"
   ]
  },
  {
   "cell_type": "code",
   "execution_count": 17,
   "id": "15c1867d",
   "metadata": {},
   "outputs": [],
   "source": [
    "# add\n",
    "# copy\n",
    "# difference\n",
    "# discard\n",
    "# intersection\n",
    "# isdisjoint\n",
    "# issubset\n",
    "# issuperset\n",
    "# pop\n",
    "# union\n",
    "# update\n",
    "\n",
    "set1 = {\"black\", \"white\", \"gray\", \"silver\", \"maroon\"}\n",
    "set2 =  {\"red\", \"purple\", \"fushsia\", \"green\", \"lime\"} "
   ]
  },
  {
   "cell_type": "code",
   "execution_count": null,
   "id": "561e27f2",
   "metadata": {},
   "outputs": [],
   "source": []
  }
 ],
 "metadata": {
  "kernelspec": {
   "display_name": "Python 3 (ipykernel)",
   "language": "python",
   "name": "python3"
  },
  "language_info": {
   "codemirror_mode": {
    "name": "ipython",
    "version": 3
   },
   "file_extension": ".py",
   "mimetype": "text/x-python",
   "name": "python",
   "nbconvert_exporter": "python",
   "pygments_lexer": "ipython3",
   "version": "3.9.7"
  }
 },
 "nbformat": 4,
 "nbformat_minor": 5
}
