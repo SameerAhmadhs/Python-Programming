{
 "cells": [
  {
   "cell_type": "markdown",
   "id": "e99dd1f8",
   "metadata": {},
   "source": [
    "# Python Functions\n",
    "\n",
    "## Function is a group of related statements that perform a specific task.\n",
    "\n",
    "Advantages of Functions:\n",
    "\n",
    "* Makes our code more organized and manageable.\n",
    "* it avoids repetition and makes code reusable."
   ]
  },
  {
   "cell_type": "code",
   "execution_count": 1,
   "id": "8f906223",
   "metadata": {},
   "outputs": [
    {
     "name": "stdout",
     "output_type": "stream",
     "text": [
      "81.6\n",
      "79.80000000000001\n"
     ]
    }
   ],
   "source": [
    "# calculate Percentage. (In this methode we are calculating percentage of each student by making formula for \n",
    "                       # each student)\n",
    "\n",
    "# for Student 1\n",
    "sub1 , sub2, sub3, sub4, sub5 = 77,68,75,88,100\n",
    "Pct = ((sub1+sub2+sub3+sub4+sub5)/(5*100))*100\n",
    "print(Pct)\n",
    "\n",
    "# for Student 2\n",
    "sub1 , sub2, sub3, sub4, sub5 = 77,86,57,88,91\n",
    "Pct = ((sub1+sub2+sub3+sub4+sub5)/(5*100))*100\n",
    "print(Pct)\n"
   ]
  },
  {
   "cell_type": "markdown",
   "id": "ed325053",
   "metadata": {},
   "source": [
    "## Syntax of Function\n"
   ]
  },
  {
   "cell_type": "code",
   "execution_count": null,
   "id": "bbaf3a95",
   "metadata": {},
   "outputs": [],
   "source": [
    "def function_name(arguments):\n",
    "    \"\"\"docstring\"\"\"\n",
    "    statement 1\n",
    "    statement 2\n",
    "    statement 3\n",
    "    ...\n",
    "    return output or print(output)\n"
   ]
  },
  {
   "cell_type": "markdown",
   "id": "bfa08518",
   "metadata": {},
   "source": [
    "* Keyword def marks the start of function header.\n",
    "* function_name to uniquely identify it. Function naming follows the same rules of writing identifiers in Python.\n",
    "* Parameters (arguments) through which we pass values to a function. They are optional.\n",
    "* A colon (:) to mark the end of function header.\n",
    "* Documentation string (docstring) to describe what the function does. This is optional.\n",
    "* One or more valid python statements that make up the function body. Statements must have same indentation level (usually 4 spaces).\n",
    "* An optional return statement to return a value from the function."
   ]
  },
  {
   "cell_type": "markdown",
   "id": "25293040",
   "metadata": {},
   "source": [
    "### Writing a simple function"
   ]
  },
  {
   "cell_type": "code",
   "execution_count": 5,
   "id": "da7d596c",
   "metadata": {},
   "outputs": [],
   "source": [
    "# calculating the percentage\n",
    "def per_calu(sub1,sub2,sub3,sub4,sub5):\n",
    "    \"Calculating the percentage\"\n",
    "    perc=((sub1+sub2+sub3+sub4+sub5)/(5*100))*100\n",
    "    print(perc)"
   ]
  },
  {
   "cell_type": "code",
   "execution_count": 6,
   "id": "82eddc10",
   "metadata": {},
   "outputs": [
    {
     "data": {
      "text/plain": [
       "function"
      ]
     },
     "execution_count": 6,
     "metadata": {},
     "output_type": "execute_result"
    }
   ],
   "source": [
    "type(per_calu)"
   ]
  },
  {
   "cell_type": "code",
   "execution_count": 8,
   "id": "88e9c7e2",
   "metadata": {},
   "outputs": [
    {
     "name": "stdout",
     "output_type": "stream",
     "text": [
      "49.0\n"
     ]
    }
   ],
   "source": [
    "# calling to the function (now we can calulate per for many students by using this function)\n",
    "per_calu(23,34,78,66,44)"
   ]
  },
  {
   "cell_type": "code",
   "execution_count": 18,
   "id": "6b57aaa6",
   "metadata": {},
   "outputs": [],
   "source": [
    "# calculating or defining a BMI function\n",
    "def BMI(ht,wht):\n",
    "    \"The height in meters and whight in kgs\"\n",
    "    BMI=round(wht/ht**2,4)\n",
    "    return BMI"
   ]
  },
  {
   "cell_type": "code",
   "execution_count": 19,
   "id": "b7503687",
   "metadata": {},
   "outputs": [
    {
     "data": {
      "text/plain": [
       "function"
      ]
     },
     "execution_count": 19,
     "metadata": {},
     "output_type": "execute_result"
    }
   ],
   "source": [
    "type(BMI)"
   ]
  },
  {
   "cell_type": "code",
   "execution_count": 20,
   "id": "01061bcc",
   "metadata": {},
   "outputs": [
    {
     "data": {
      "text/plain": [
       "29.7442"
      ]
     },
     "execution_count": 20,
     "metadata": {},
     "output_type": "execute_result"
    }
   ],
   "source": [
    "#calling to the function \n",
    "BMI(1.23,45) # alway give value in order which was given at the time of defining\n"
   ]
  },
  {
   "cell_type": "code",
   "execution_count": 21,
   "id": "bd7bdfea",
   "metadata": {},
   "outputs": [
    {
     "data": {
      "text/plain": [
       "0.0006"
      ]
     },
     "execution_count": 21,
     "metadata": {},
     "output_type": "execute_result"
    }
   ],
   "source": [
    "# if we change the order we get wrong value for exm:\n",
    "BMI(45,1.23)"
   ]
  },
  {
   "cell_type": "code",
   "execution_count": 16,
   "id": "d62bb97d",
   "metadata": {},
   "outputs": [
    {
     "ename": "TypeError",
     "evalue": "unsupported operand type(s) for ** or pow(): 'str' and 'int'",
     "output_type": "error",
     "traceback": [
      "\u001b[1;31m---------------------------------------------------------------------------\u001b[0m",
      "\u001b[1;31mTypeError\u001b[0m                                 Traceback (most recent call last)",
      "\u001b[1;32m~\\AppData\\Local\\Temp/ipykernel_10936/124695156.py\u001b[0m in \u001b[0;36m<module>\u001b[1;34m\u001b[0m\n\u001b[0;32m      1\u001b[0m \u001b[1;31m# Always remember we can not use string\u001b[0m\u001b[1;33m\u001b[0m\u001b[1;33m\u001b[0m\u001b[0m\n\u001b[1;32m----> 2\u001b[1;33m \u001b[0mBMI\u001b[0m\u001b[1;33m(\u001b[0m\u001b[1;34m'b'\u001b[0m\u001b[1;33m,\u001b[0m\u001b[1;36m45\u001b[0m\u001b[1;33m)\u001b[0m\u001b[1;33m\u001b[0m\u001b[1;33m\u001b[0m\u001b[0m\n\u001b[0m",
      "\u001b[1;32m~\\AppData\\Local\\Temp/ipykernel_10936/733608573.py\u001b[0m in \u001b[0;36mBMI\u001b[1;34m(ht, wht)\u001b[0m\n\u001b[0;32m      2\u001b[0m \u001b[1;32mdef\u001b[0m \u001b[0mBMI\u001b[0m\u001b[1;33m(\u001b[0m\u001b[0mht\u001b[0m\u001b[1;33m,\u001b[0m\u001b[0mwht\u001b[0m\u001b[1;33m)\u001b[0m\u001b[1;33m:\u001b[0m\u001b[1;33m\u001b[0m\u001b[1;33m\u001b[0m\u001b[0m\n\u001b[0;32m      3\u001b[0m     \u001b[1;34m\"The height in meters and whight in kgs\"\u001b[0m\u001b[1;33m\u001b[0m\u001b[1;33m\u001b[0m\u001b[0m\n\u001b[1;32m----> 4\u001b[1;33m     \u001b[0mBMI\u001b[0m\u001b[1;33m=\u001b[0m\u001b[0mwht\u001b[0m\u001b[1;33m/\u001b[0m\u001b[0mht\u001b[0m\u001b[1;33m**\u001b[0m\u001b[1;36m2\u001b[0m\u001b[1;33m\u001b[0m\u001b[1;33m\u001b[0m\u001b[0m\n\u001b[0m\u001b[0;32m      5\u001b[0m     \u001b[1;32mreturn\u001b[0m \u001b[0mBMI\u001b[0m\u001b[1;33m\u001b[0m\u001b[1;33m\u001b[0m\u001b[0m\n",
      "\u001b[1;31mTypeError\u001b[0m: unsupported operand type(s) for ** or pow(): 'str' and 'int'"
     ]
    }
   ],
   "source": [
    "# Always remember we can not use string \n",
    "BMI('b',45)"
   ]
  },
  {
   "cell_type": "code",
   "execution_count": 22,
   "id": "8805abbb",
   "metadata": {},
   "outputs": [
    {
     "data": {
      "text/plain": [
       "29.7442"
      ]
     },
     "execution_count": 22,
     "metadata": {},
     "output_type": "execute_result"
    }
   ],
   "source": [
    "# calling the func params with their name\n",
    "BMI(ht=1.23,wht=45)"
   ]
  },
  {
   "cell_type": "markdown",
   "id": "4d61c4ed",
   "metadata": {},
   "source": [
    "## Write a function for Discount calculator\n",
    "* If the shirt with original price as Rs 1,000 is 20% off, Print Payable amount and Saved amount."
   ]
  },
  {
   "cell_type": "code",
   "execution_count": 23,
   "id": "a64811c6",
   "metadata": {},
   "outputs": [],
   "source": [
    "def Discount_calculator(MRP, Discount):\n",
    "    finalamt = MRP-(MRP*Discount)/100\n",
    "    print('Payable Amount is {}'.format(finalamt))\n",
    "    print('Saved Amount is {}'.format(MRP-finalamt))"
   ]
  },
  {
   "cell_type": "code",
   "execution_count": 24,
   "id": "4130e393",
   "metadata": {},
   "outputs": [
    {
     "name": "stdout",
     "output_type": "stream",
     "text": [
      "Payable Amount is 1800.0\n",
      "Saved Amount is 200.0\n"
     ]
    }
   ],
   "source": [
    "# calling function\n",
    "Discount_calculator(2000,10)"
   ]
  },
  {
   "cell_type": "code",
   "execution_count": 10,
   "id": "7726cb64",
   "metadata": {},
   "outputs": [],
   "source": [
    "def discount(originalprice,discount):\n",
    "    \"Payable amount and saved amount\"\n",
    "    savedamount=originalprice*(discount/100)\n",
    "    payableamount=originalprice-savedamount\n",
    "    print('savedamount',savedamount)\n",
    "    print('payableamount',payableamount)"
   ]
  },
  {
   "cell_type": "code",
   "execution_count": 12,
   "id": "b7675efd",
   "metadata": {},
   "outputs": [
    {
     "name": "stdout",
     "output_type": "stream",
     "text": [
      "savedamount 558.8\n",
      "payableamount 1981.2\n"
     ]
    }
   ],
   "source": [
    "discount(2540,22)"
   ]
  },
  {
   "cell_type": "markdown",
   "id": "4d1740fa",
   "metadata": {},
   "source": [
    "### print vs return"
   ]
  },
  {
   "cell_type": "code",
   "execution_count": 25,
   "id": "5f3bfbfd",
   "metadata": {},
   "outputs": [
    {
     "name": "stdout",
     "output_type": "stream",
     "text": [
      "Enter the MRP: 1300\n",
      "Enter the dscount (0-100): 50\n",
      "Payable Amount is 650.0\n",
      "Saved Amount is 650.0\n",
      "None\n"
     ]
    },
    {
     "ename": "TypeError",
     "evalue": "unsupported operand type(s) for -: 'int' and 'NoneType'",
     "output_type": "error",
     "traceback": [
      "\u001b[1;31m---------------------------------------------------------------------------\u001b[0m",
      "\u001b[1;31mTypeError\u001b[0m                                 Traceback (most recent call last)",
      "\u001b[1;32m~\\AppData\\Local\\Temp/ipykernel_10936/3102687893.py\u001b[0m in \u001b[0;36m<module>\u001b[1;34m\u001b[0m\n\u001b[0;32m      4\u001b[0m \u001b[0mi\u001b[0m \u001b[1;33m=\u001b[0m \u001b[0mDiscount_calculator\u001b[0m\u001b[1;33m(\u001b[0m\u001b[0mmrp\u001b[0m\u001b[1;33m,\u001b[0m \u001b[0mdisc\u001b[0m\u001b[1;33m)\u001b[0m\u001b[1;33m\u001b[0m\u001b[1;33m\u001b[0m\u001b[0m\n\u001b[0;32m      5\u001b[0m \u001b[0mprint\u001b[0m\u001b[1;33m(\u001b[0m\u001b[0mi\u001b[0m\u001b[1;33m)\u001b[0m\u001b[1;33m\u001b[0m\u001b[1;33m\u001b[0m\u001b[0m\n\u001b[1;32m----> 6\u001b[1;33m \u001b[0mprint\u001b[0m\u001b[1;33m(\u001b[0m\u001b[1;34m'Saved Amount is {}'\u001b[0m\u001b[1;33m.\u001b[0m\u001b[0mformat\u001b[0m\u001b[1;33m(\u001b[0m\u001b[0mmrp\u001b[0m\u001b[1;33m-\u001b[0m\u001b[0mi\u001b[0m\u001b[1;33m)\u001b[0m\u001b[1;33m)\u001b[0m\u001b[1;33m\u001b[0m\u001b[1;33m\u001b[0m\u001b[0m\n\u001b[0m",
      "\u001b[1;31mTypeError\u001b[0m: unsupported operand type(s) for -: 'int' and 'NoneType'"
     ]
    }
   ],
   "source": [
    "mrp = int(input('Enter the MRP: '))\n",
    "disc = int(input(\"Enter the dscount (0-100): \"))\n",
    "\n",
    "i = Discount_calculator(mrp, disc)\n",
    "print(i)\n",
    "print('Saved Amount is {}'.format(mrp-i))"
   ]
  },
  {
   "cell_type": "code",
   "execution_count": 33,
   "id": "8bd3e11c",
   "metadata": {},
   "outputs": [],
   "source": [
    "def Discount_calculator(MRP, Discount):\n",
    "    finalamt = MRP-(MRP*Discount)/100\n",
    "    return finalamt #by using return insted of  print ,return store the value of variable"
   ]
  },
  {
   "cell_type": "code",
   "execution_count": 31,
   "id": "bc7dd72b",
   "metadata": {},
   "outputs": [
    {
     "name": "stdout",
     "output_type": "stream",
     "text": [
      "Enter the MRP: 2300\n",
      "Enter the dscount (0-100): 2\n",
      "finalamount =  2254.0\n",
      "Saved Amount is 46.0\n"
     ]
    }
   ],
   "source": [
    "mrp = int(input('Enter the MRP: '))\n",
    "disc = int(input(\"Enter the dscount (0-100): \"))\n",
    "\n",
    "finalamount= Discount_calculator(mrp, disc)\n",
    "\n",
    "print('finalamount = ',finalamount)\n",
    "print('Saved Amount is {}'.format(mrp-finalamount))"
   ]
  },
  {
   "cell_type": "markdown",
   "id": "e05a2f98",
   "metadata": {},
   "source": [
    "## Scope of variables\n",
    "* Scope or lifetime of a variable is the portion of a program where the variable is recognized.\n",
    "* Parameters and variables defined inside a function is not visible from outside. Hence, they have a local scope."
   ]
  },
  {
   "cell_type": "code",
   "execution_count": 7,
   "id": "27eb136c",
   "metadata": {},
   "outputs": [],
   "source": [
    "def Discount_calculator(MRP, Discount):\n",
    "    finalamt = MRP-(MRP*Discount)/100\n",
    "    return finalamt #byusing return function it store the value of variable of inside the def function"
   ]
  },
  {
   "cell_type": "code",
   "execution_count": 10,
   "id": "cc7bc158",
   "metadata": {},
   "outputs": [
    {
     "name": "stdout",
     "output_type": "stream",
     "text": [
      "mrp : 1234\n",
      "disc : 4\n",
      "Finalamount =  1184.64\n",
      "saved amount :  94.0\n"
     ]
    }
   ],
   "source": [
    "mrp=int(input('mrp : '))\n",
    "disc=int(input('disc : '))\n",
    "print('Finalamount = ',Discount_calculator(mrp,disc))\n",
    "print('saved amount : ',mrp-finalamt) #we cannot use variable of def function outside of def."
   ]
  },
  {
   "cell_type": "code",
   "execution_count": 11,
   "id": "8605d574",
   "metadata": {},
   "outputs": [],
   "source": [
    "# using both return and print\n",
    "\n",
    "def Discount_calculator(MRP, Discount):\n",
    "    finalamt = MRP-(MRP*Discount)/100\n",
    "    return finalamt\n",
    "    print('final amount:', finalamt)"
   ]
  },
  {
   "cell_type": "code",
   "execution_count": 12,
   "id": "c8d26cb3",
   "metadata": {},
   "outputs": [
    {
     "data": {
      "text/plain": [
       "6000.0"
      ]
     },
     "execution_count": 12,
     "metadata": {},
     "output_type": "execute_result"
    }
   ],
   "source": [
    "Discount_calculator(12000,50)"
   ]
  },
  {
   "cell_type": "code",
   "execution_count": 13,
   "id": "eb35d10d",
   "metadata": {},
   "outputs": [],
   "source": [
    "# returning multiple values\n",
    "\n",
    "def Discount_calculator(MRP, Discount):\n",
    "    finalamt = MRP-(MRP*Discount)/100\n",
    "    return finalamt, finalamt+100 \n",
    "    print('final amount:', finalamt)\n",
    "    "
   ]
  },
  {
   "cell_type": "code",
   "execution_count": 14,
   "id": "ccea8110",
   "metadata": {},
   "outputs": [
    {
     "data": {
      "text/plain": [
       "(8769.96, 8869.96)"
      ]
     },
     "execution_count": 14,
     "metadata": {},
     "output_type": "execute_result"
    }
   ],
   "source": [
    "Discount_calculator(12897,32)"
   ]
  },
  {
   "cell_type": "markdown",
   "id": "0e16e9eb",
   "metadata": {},
   "source": [
    "## Write a function to compute Income tax"
   ]
  },
  {
   "cell_type": "code",
   "execution_count": 18,
   "id": "29609d95",
   "metadata": {},
   "outputs": [],
   "source": [
    "def INcometax(salary):\n",
    "    '''computing the tax from salary'''\n",
    "    edu_cess=0.02\n",
    "    if salary<250000:\n",
    "        tax_slab=0\n",
    "        tax=tax_slab*salary\n",
    "        cess_on_tax=tax*edu_cess\n",
    "    elif salary>250000 and salary<=5000000:\n",
    "        tax_slab=0.05\n",
    "        tax=tax_slab*salary\n",
    "        cess_on_tax=tax*edu_cess\n",
    "    elif salary>5000000 and salary<=1000000:\n",
    "        tax_slab=0.2\n",
    "        tax=tax_slab*salary\n",
    "        cess_on_tax=tax*edu_cess\n",
    "    else:\n",
    "        tax_slab=0.3\n",
    "        tax=tax_slab*salary\n",
    "        cess_on_tax=tax*edu_cess\n",
    "    print('Salary:', salary)\n",
    "    print('Tax slab:', str(int(tax_slab*100))+'%')\n",
    "    print('Tax on Salary:', tax)\n",
    "    print('Edu Cess on tax:', cess_on_tax)\n",
    "    print('Total tax to be paid:', tax + cess_on_tax)\n",
    "\n"
   ]
  },
  {
   "cell_type": "code",
   "execution_count": 19,
   "id": "23865f43",
   "metadata": {},
   "outputs": [
    {
     "name": "stdout",
     "output_type": "stream",
     "text": [
      "Enter ur salary = 300000\n",
      "Salary: 300000\n",
      "Tax slab: 5%\n",
      "Tax on Salary: 15000.0\n",
      "Edu Cess on tax: 300.0\n",
      "Total tax to be paid: 15300.0\n"
     ]
    }
   ],
   "source": [
    "salary=int(input('Enter ur salary = '))\n",
    "INcometax(salary)"
   ]
  },
  {
   "cell_type": "markdown",
   "id": "e8edaeef",
   "metadata": {},
   "source": [
    "### Accessing the Docstring"
   ]
  },
  {
   "cell_type": "code",
   "execution_count": 20,
   "id": "fdb7e589",
   "metadata": {},
   "outputs": [
    {
     "name": "stdout",
     "output_type": "stream",
     "text": [
      "computing the tax from salary\n"
     ]
    }
   ],
   "source": [
    "print(INcometax.__doc__)"
   ]
  },
  {
   "cell_type": "code",
   "execution_count": 21,
   "id": "e7079c8e",
   "metadata": {},
   "outputs": [
    {
     "name": "stdout",
     "output_type": "stream",
     "text": [
      "print(value, ..., sep=' ', end='\\n', file=sys.stdout, flush=False)\n",
      "\n",
      "Prints the values to a stream, or to sys.stdout by default.\n",
      "Optional keyword arguments:\n",
      "file:  a file-like object (stream); defaults to the current sys.stdout.\n",
      "sep:   string inserted between values, default a space.\n",
      "end:   string appended after the last value, default a newline.\n",
      "flush: whether to forcibly flush the stream.\n"
     ]
    }
   ],
   "source": [
    "print(print.__doc__)"
   ]
  },
  {
   "cell_type": "markdown",
   "id": "6975da30",
   "metadata": {},
   "source": [
    "## Lambda Function (Anonymous functions)\n",
    "* While normal functions are defined using the def keyword, in Python anonymous functions are defined using the lambda keyword.\n",
    "\n",
    "* Hence, anonymous functions are also called lambda functions.\n",
    "\n",
    "* Lambda function is defined without a name.\n",
    "\n",
    "#### Syntax of Lambda Function\n",
    "* lambda arguments: expression\n",
    "* Lambda functions can have any number of arguments but only one expression. The expression is evaluated and returned."
   ]
  },
  {
   "cell_type": "code",
   "execution_count": 5,
   "id": "cfd9ca01",
   "metadata": {},
   "outputs": [],
   "source": [
    "# Write a function to calculate (a+b)^2\n",
    "def xyz(a,b):\n",
    "    return (a+b)**2\n",
    "    "
   ]
  },
  {
   "cell_type": "code",
   "execution_count": 6,
   "id": "40b70b54",
   "metadata": {},
   "outputs": [
    {
     "data": {
      "text/plain": [
       "5184"
      ]
     },
     "execution_count": 6,
     "metadata": {},
     "output_type": "execute_result"
    }
   ],
   "source": [
    "xyz(12,60)"
   ]
  },
  {
   "cell_type": "code",
   "execution_count": 7,
   "id": "75b35c29",
   "metadata": {},
   "outputs": [
    {
     "data": {
      "text/plain": [
       "<function __main__.<lambda>(a, b)>"
      ]
     },
     "execution_count": 7,
     "metadata": {},
     "output_type": "execute_result"
    }
   ],
   "source": [
    "# lambda function\n",
    "lambda a,b: (a+b)**2"
   ]
  },
  {
   "cell_type": "code",
   "execution_count": 8,
   "id": "d39ba91e",
   "metadata": {},
   "outputs": [],
   "source": [
    "x = lambda a,b: (a+b)**2 #for calling to lambda we need to use a variable"
   ]
  },
  {
   "cell_type": "code",
   "execution_count": 9,
   "id": "9fa6ecfb",
   "metadata": {},
   "outputs": [
    {
     "data": {
      "text/plain": [
       "3249"
      ]
     },
     "execution_count": 9,
     "metadata": {},
     "output_type": "execute_result"
    }
   ],
   "source": [
    "x(12,45)"
   ]
  },
  {
   "cell_type": "code",
   "execution_count": 10,
   "id": "0b764e98",
   "metadata": {},
   "outputs": [],
   "source": [
    "# compute 3x^3 + 2y^2 + z\n",
    "j = lambda x,y,z: 3*x**3+2*y**2+z"
   ]
  },
  {
   "cell_type": "code",
   "execution_count": 11,
   "id": "75932ba5",
   "metadata": {},
   "outputs": [
    {
     "data": {
      "text/plain": [
       "40375"
      ]
     },
     "execution_count": 11,
     "metadata": {},
     "output_type": "execute_result"
    }
   ],
   "source": [
    "j(23,44,2)"
   ]
  },
  {
   "cell_type": "code",
   "execution_count": 20,
   "id": "4c7c8cdb",
   "metadata": {},
   "outputs": [],
   "source": [
    "str1 = 'Lambda functions can have any number of arguments'"
   ]
  },
  {
   "cell_type": "code",
   "execution_count": 17,
   "id": "ae92ac24",
   "metadata": {},
   "outputs": [],
   "source": [
    "# break a sentence into words and return 3 letter words\n",
    "def find(str1):\n",
    "    \"compute three letter word\"\n",
    "    i=str1.split()\n",
    "    k=[]\n",
    "    for j in i:\n",
    "        if len(j)==3:\n",
    "            k.append(j)\n",
    "    return k\n",
    "        \n",
    "    \n",
    "    "
   ]
  },
  {
   "cell_type": "code",
   "execution_count": 18,
   "id": "62fa64a0",
   "metadata": {},
   "outputs": [
    {
     "data": {
      "text/plain": [
       "['can', 'any']"
      ]
     },
     "execution_count": 18,
     "metadata": {},
     "output_type": "execute_result"
    }
   ],
   "source": [
    "find(str1)"
   ]
  },
  {
   "cell_type": "code",
   "execution_count": 22,
   "id": "3ea994cd",
   "metadata": {},
   "outputs": [
    {
     "data": {
      "text/plain": [
       "['can', 'any']"
      ]
     },
     "execution_count": 22,
     "metadata": {},
     "output_type": "execute_result"
    }
   ],
   "source": [
    "# by using list compretion\n",
    "[i for i in str1.split() if len(i)==3]"
   ]
  },
  {
   "cell_type": "code",
   "execution_count": 23,
   "id": "bf1992a4",
   "metadata": {},
   "outputs": [
    {
     "data": {
      "text/plain": [
       "['can', 'any']"
      ]
     },
     "execution_count": 23,
     "metadata": {},
     "output_type": "execute_result"
    }
   ],
   "source": [
    "# by using lambda function\n",
    "l = lambda str1: [i for i in str1.split() if len(i) == 3]\n",
    "l(str1)"
   ]
  },
  {
   "cell_type": "code",
   "execution_count": 20,
   "id": "f3345f66",
   "metadata": {},
   "outputs": [],
   "source": [
    "# Lambda function for simple interest\n",
    "j = lambda p,r,t: (p*r*t)/100"
   ]
  },
  {
   "cell_type": "code",
   "execution_count": 21,
   "id": "37a6de34",
   "metadata": {},
   "outputs": [
    {
     "data": {
      "text/plain": [
       "100.0"
      ]
     },
     "execution_count": 21,
     "metadata": {},
     "output_type": "execute_result"
    }
   ],
   "source": [
    "j(1000,5,2)"
   ]
  },
  {
   "cell_type": "markdown",
   "id": "09d8dc96",
   "metadata": {},
   "source": [
    "# Use of Lambda Function\n",
    "* Use lambda functions when you require a nameless function for a short period of time.\n",
    "* Lambda functions are used along with built-in functions like filter(), map() etc.\n",
    "\n",
    "### Using with filter()\n",
    "* The filter() function in Python takes in a function and a list as arguments.\n",
    "\n",
    "* The function is called with all the items in the list and a new list is returned which contains items for which the function evaluates to True."
   ]
  },
  {
   "cell_type": "code",
   "execution_count": 1,
   "id": "a06c0108",
   "metadata": {},
   "outputs": [
    {
     "name": "stdout",
     "output_type": "stream",
     "text": [
      "[2, 4, 6, 8, 10, 12, 14, 16, 18, 20, 22, 24, 26, 28, 30, 32, 34, 36, 38, 40, 42, 44, 46, 48, 50, 52, 54, 56, 58, 60, 62, 64, 66, 68, 70, 72, 74, 76, 78, 80, 82, 84, 86, 88, 90, 92, 94, 96, 98, 100]\n",
      "[2, 4, 6, 8, 10, 12, 14, 16, 18, 20, 22, 24, 26, 28, 30, 32, 34, 36, 38, 40, 42, 44, 46, 48, 50, 52, 54, 56, 58, 60, 62, 64, 66, 68, 70, 72, 74, 76, 78, 80, 82, 84, 86, 88, 90, 92, 94, 96, 98, 100]\n"
     ]
    }
   ],
   "source": [
    "# Program to find even numbers till 100\n",
    "\n",
    "# regular approach\n",
    "k = []\n",
    "for i in range(1,101):\n",
    "    if(i%2 == 0):\n",
    "        k.append(i)\n",
    "print(k)\n",
    "\n",
    "# using filter & lamda\n",
    "print(list(filter(lambda x:x%2==0, range(1,101))))"
   ]
  },
  {
   "cell_type": "code",
   "execution_count": 24,
   "id": "4beeb50f",
   "metadata": {},
   "outputs": [
    {
     "data": {
      "text/plain": [
       "['can', 'any']"
      ]
     },
     "execution_count": 24,
     "metadata": {},
     "output_type": "execute_result"
    }
   ],
   "source": [
    "str1 = 'Lambda functions can have any number of arguments'\n",
    "l = lambda str1: [i for i in str1.split() if len(i) == 3]\n",
    "l(str1)"
   ]
  },
  {
   "cell_type": "code",
   "execution_count": 28,
   "id": "acd82b0e",
   "metadata": {},
   "outputs": [
    {
     "name": "stdout",
     "output_type": "stream",
     "text": [
      "['can', 'any']\n"
     ]
    }
   ],
   "source": [
    "# using filter\n",
    "print(list(filter(lambda x: len(x)==3,str1.split())))"
   ]
  },
  {
   "cell_type": "markdown",
   "id": "7ab59639",
   "metadata": {},
   "source": [
    "## Using with map()\n",
    "* The map() function in Python takes in a function and a list as arguments.\n",
    "\n",
    "* The function is called with all the items in the list and a object is returned (can be converted into list) which contains items returned by that function expression for each item."
   ]
  },
  {
   "cell_type": "code",
   "execution_count": 29,
   "id": "548a7f10",
   "metadata": {},
   "outputs": [
    {
     "name": "stdout",
     "output_type": "stream",
     "text": [
      "['Lambda', 'functions', 'can', 'have', 'any', 'number', 'of', 'arguments']\n",
      "['LAMBDA', 'FUNCTIONS', 'CAN', 'HAVE', 'ANY', 'NUMBER', 'OF', 'ARGUMENTS']\n"
     ]
    }
   ],
   "source": [
    "str1 = 'Lambda functions can have any number of arguments'\n",
    "\n",
    "# convert the string into a,list and convert the values to UPPER CASE\n",
    "print(str1.split())\n",
    "\n",
    "k = []\n",
    "for i in str1.split():\n",
    "    k.append(i.upper())\n",
    "print(k)"
   ]
  },
  {
   "cell_type": "code",
   "execution_count": 30,
   "id": "cb004b9d",
   "metadata": {},
   "outputs": [
    {
     "data": {
      "text/plain": [
       "['LAMBDA', 'FUNCTIONS', 'CAN', 'HAVE', 'ANY', 'NUMBER', 'OF', 'ARGUMENTS']"
      ]
     },
     "execution_count": 30,
     "metadata": {},
     "output_type": "execute_result"
    }
   ],
   "source": [
    "list(map(lambda s: s.upper(),str1.split()))"
   ]
  },
  {
   "cell_type": "code",
   "execution_count": 33,
   "id": "9ab9539f",
   "metadata": {},
   "outputs": [
    {
     "data": {
      "text/plain": [
       "[1, 4, 9, 16, 25, 36, 49, 64, 81, 100]"
      ]
     },
     "execution_count": 33,
     "metadata": {},
     "output_type": "execute_result"
    }
   ],
   "source": [
    "list(map(lambda i: i**2, range(1,11)))"
   ]
  },
  {
   "cell_type": "markdown",
   "id": "ff70c6a0",
   "metadata": {},
   "source": [
    "# Python Modules\n",
    "### What are modules in Python?\n",
    "In Python, Modules are simply files with the “.py” extension containing Python code that can be imported inside another Python Program.\n",
    "\n",
    "A file containing Python code, for example: example.py, is called a module, and its module name would be example.\n",
    "\n",
    "* We use modules to break down large programs into small manageable and organized files. Furthermore, modules provide reusability of code.\n",
    "\n",
    "* We can define our most used functions in a module and import it, instead of copying their definitions into different programs.\n",
    "\n",
    "### How to create Python Modules?\n",
    "* Create a function and save it in a file with the extension \".py\"."
   ]
  },
  {
   "cell_type": "code",
   "execution_count": 3,
   "id": "f22c086d",
   "metadata": {},
   "outputs": [],
   "source": [
    "# Identify the 2nd highest number in a list\n",
    "def max2(x):\n",
    "    x.sort()\n",
    "    return x[-2]\n",
    "\n",
    "# count of vowels in a given string\n",
    "vowels=['a','e','i','o','u']\n",
    "def vowel_count(x):\n",
    "    count = 0\n",
    "    for i in x:\n",
    "        if(i.lower() in vowels):\n",
    "            count = count+1\n",
    "    return count    "
   ]
  },
  {
   "cell_type": "code",
   "execution_count": 4,
   "id": "8c7755bb",
   "metadata": {},
   "outputs": [
    {
     "data": {
      "text/plain": [
       "8"
      ]
     },
     "execution_count": 4,
     "metadata": {},
     "output_type": "execute_result"
    }
   ],
   "source": [
    "vowel_count('my name is sameer ahmad')"
   ]
  },
  {
   "cell_type": "markdown",
   "id": "cac2f7e9",
   "metadata": {},
   "source": [
    "## How to use Python Modules?\n",
    "**`import modulename`**\n",
    "\n",
    "##### Use the required function as -\n",
    "\n",
    "module_name.function_name\n",
    "\n",
    "##### Importing all names -\n",
    "\n",
    "from module_name import *\n",
    "\n",
    "##### Import with renaming\n",
    "\n",
    "import module_name as xyz"
   ]
  },
  {
   "cell_type": "code",
   "execution_count": 5,
   "id": "734833ad",
   "metadata": {},
   "outputs": [
    {
     "ename": "ModuleNotFoundError",
     "evalue": "No module named 'my_module1'",
     "output_type": "error",
     "traceback": [
      "\u001b[1;31m---------------------------------------------------------------------------\u001b[0m",
      "\u001b[1;31mModuleNotFoundError\u001b[0m                       Traceback (most recent call last)",
      "\u001b[1;32m~\\AppData\\Local\\Temp/ipykernel_14284/638110404.py\u001b[0m in \u001b[0;36m<module>\u001b[1;34m\u001b[0m\n\u001b[1;32m----> 1\u001b[1;33m \u001b[1;32mimport\u001b[0m \u001b[0mmy_module1\u001b[0m\u001b[1;33m\u001b[0m\u001b[1;33m\u001b[0m\u001b[0m\n\u001b[0m",
      "\u001b[1;31mModuleNotFoundError\u001b[0m: No module named 'my_module1'"
     ]
    }
   ],
   "source": [
    "import my_module1"
   ]
  },
  {
   "cell_type": "code",
   "execution_count": 6,
   "id": "af4ee948",
   "metadata": {},
   "outputs": [],
   "source": [
    "import sys"
   ]
  },
  {
   "cell_type": "code",
   "execution_count": 8,
   "id": "99e0b6e1",
   "metadata": {},
   "outputs": [
    {
     "data": {
      "text/plain": [
       "['C:\\\\Users\\\\lenovo\\\\Data science course\\\\01  Python Programming',\n",
       " 'C:\\\\Users\\\\lenovo\\\\anaconda3\\\\python39.zip',\n",
       " 'C:\\\\Users\\\\lenovo\\\\anaconda3\\\\DLLs',\n",
       " 'C:\\\\Users\\\\lenovo\\\\anaconda3\\\\lib',\n",
       " 'C:\\\\Users\\\\lenovo\\\\anaconda3',\n",
       " '',\n",
       " 'C:\\\\Users\\\\lenovo\\\\anaconda3\\\\lib\\\\site-packages',\n",
       " 'C:\\\\Users\\\\lenovo\\\\anaconda3\\\\lib\\\\site-packages\\\\locket-0.2.1-py3.9.egg',\n",
       " 'C:\\\\Users\\\\lenovo\\\\anaconda3\\\\lib\\\\site-packages\\\\win32',\n",
       " 'C:\\\\Users\\\\lenovo\\\\anaconda3\\\\lib\\\\site-packages\\\\win32\\\\lib',\n",
       " 'C:\\\\Users\\\\lenovo\\\\anaconda3\\\\lib\\\\site-packages\\\\Pythonwin',\n",
       " 'C:\\\\Users\\\\lenovo\\\\anaconda3\\\\lib\\\\site-packages\\\\IPython\\\\extensions',\n",
       " 'C:\\\\Users\\\\lenovo\\\\.ipython']"
      ]
     },
     "execution_count": 8,
     "metadata": {},
     "output_type": "execute_result"
    }
   ],
   "source": [
    "sys.path"
   ]
  },
  {
   "cell_type": "code",
   "execution_count": 9,
   "id": "c544fa26",
   "metadata": {},
   "outputs": [],
   "source": [
    "import os"
   ]
  },
  {
   "cell_type": "code",
   "execution_count": 11,
   "id": "552a1c3f",
   "metadata": {},
   "outputs": [
    {
     "data": {
      "text/plain": [
       "'C:\\\\Users\\\\lenovo\\\\Data science course\\\\01  Python Programming'"
      ]
     },
     "execution_count": 11,
     "metadata": {},
     "output_type": "execute_result"
    }
   ],
   "source": [
    "os.getcwd()"
   ]
  },
  {
   "cell_type": "code",
   "execution_count": 12,
   "id": "1096e638",
   "metadata": {},
   "outputs": [],
   "source": [
    "os.chdir('c:\\\\Data')"
   ]
  },
  {
   "cell_type": "code",
   "execution_count": 13,
   "id": "47a4254e",
   "metadata": {},
   "outputs": [
    {
     "data": {
      "text/plain": [
       "'c:\\\\Data'"
      ]
     },
     "execution_count": 13,
     "metadata": {},
     "output_type": "execute_result"
    }
   ],
   "source": [
    "os.getcwd()"
   ]
  },
  {
   "cell_type": "code",
   "execution_count": 14,
   "id": "c6b37ec4",
   "metadata": {},
   "outputs": [
    {
     "data": {
      "text/plain": [
       "[]"
      ]
     },
     "execution_count": 14,
     "metadata": {},
     "output_type": "execute_result"
    }
   ],
   "source": [
    "os.listdir()"
   ]
  },
  {
   "cell_type": "code",
   "execution_count": 15,
   "id": "3c559607",
   "metadata": {},
   "outputs": [
    {
     "data": {
      "text/plain": [
       "['$1Recycle.Bin',\n",
       " '$GetCurrent',\n",
       " '$RECYCLE.BIN',\n",
       " '$WINDOWS.~BT',\n",
       " 'Autorun.inf',\n",
       " 'Boot',\n",
       " 'bootmgr',\n",
       " 'BOOTNXT',\n",
       " 'Data',\n",
       " 'Documents and Settings',\n",
       " 'hiberfil.sys',\n",
       " 'Intel',\n",
       " 'MSOCache',\n",
       " 'NPAVSCN.DAT',\n",
       " 'npkey.txt',\n",
       " 'PerfLogs',\n",
       " 'Program Files',\n",
       " 'Program Files (x86)',\n",
       " 'ProgramData',\n",
       " 'Recovery',\n",
       " 'swapfile.sys',\n",
       " 'System Volume Information',\n",
       " 'UserGuidePDF',\n",
       " 'Users',\n",
       " 'Windows',\n",
       " 'Windows10Upgrade',\n",
       " 'zv']"
      ]
     },
     "execution_count": 15,
     "metadata": {},
     "output_type": "execute_result"
    }
   ],
   "source": [
    "os.listdir('c:\\\\')"
   ]
  },
  {
   "cell_type": "code",
   "execution_count": 16,
   "id": "9d4bb301",
   "metadata": {},
   "outputs": [],
   "source": [
    "import my_module2"
   ]
  },
  {
   "cell_type": "code",
   "execution_count": 17,
   "id": "c79ee146",
   "metadata": {},
   "outputs": [
    {
     "data": {
      "text/plain": [
       "7"
      ]
     },
     "execution_count": 17,
     "metadata": {},
     "output_type": "execute_result"
    }
   ],
   "source": [
    "my_module2.max2([1,2,3,4,5,6,7,8])"
   ]
  },
  {
   "cell_type": "code",
   "execution_count": null,
   "id": "4649053b",
   "metadata": {},
   "outputs": [],
   "source": []
  }
 ],
 "metadata": {
  "kernelspec": {
   "display_name": "Python 3 (ipykernel)",
   "language": "python",
   "name": "python3"
  },
  "language_info": {
   "codemirror_mode": {
    "name": "ipython",
    "version": 3
   },
   "file_extension": ".py",
   "mimetype": "text/x-python",
   "name": "python",
   "nbconvert_exporter": "python",
   "pygments_lexer": "ipython3",
   "version": "3.9.7"
  }
 },
 "nbformat": 4,
 "nbformat_minor": 5
}
