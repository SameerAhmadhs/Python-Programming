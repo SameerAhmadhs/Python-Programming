{
 "cells": [
  {
   "cell_type": "markdown",
   "id": "3d30fe96",
   "metadata": {},
   "source": [
    "# File Handling in Python\n",
    "* In Python, a file operation takes place in the following order:\n",
    "\n",
    "1. Open a file\n",
    "2. Read or write\n",
    "3. Close the file\n",
    " The key function for working with files in Python is the open() function.\n",
    "\n",
    " The open() function takes two parameters; filename, and mode.\n",
    "\n",
    "### Four different methods (modes) for opening a file:\n",
    "+ `r` Opens a file for reading only. (It's a default mode.)\n",
    "+ `w` Opens a file for writing. (If a file doesn't exist already, then it creates a new file. Otherwise, it will truncate/erase a file.)\n",
    "+ `x` Creates the specified file, returns an error if the file exists.\n",
    "+ `a` Opens a file for appending at the end of the file without truncating it. (Creates a new file if it does not exist in the location.)\n",
    "### In addition you can specify if the file should be handled as binary or text mode\n",
    "+ `t` Opens a file in text mode. (It's a default mode.)\n",
    "+ `b` Opens a file in binary mode. (binary mode returns bytes and this is the mode to be used when dealing with non-text files like image files)"
   ]
  },
  {
   "cell_type": "markdown",
   "id": "38ab5ba6",
   "metadata": {},
   "source": [
    "## Python Raw strings"
   ]
  },
  {
   "cell_type": "code",
   "execution_count": 3,
   "id": "bf041b6f",
   "metadata": {},
   "outputs": [
    {
     "name": "stdout",
     "output_type": "stream",
     "text": [
      "Hi\n",
      "Hello\n",
      "ravi\n"
     ]
    }
   ],
   "source": [
    "s = 'Hi\\nHello\\nravi'\n",
    "print(s)\n",
    "\n",
    "# \\n will be treated as a new line."
   ]
  },
  {
   "cell_type": "code",
   "execution_count": 6,
   "id": "060bd86f",
   "metadata": {},
   "outputs": [
    {
     "name": "stdout",
     "output_type": "stream",
     "text": [
      "hi\\nhello\\nravi and gautam\n"
     ]
    }
   ],
   "source": [
    "s = r\"hi\\nhello\\nravi and gautam\"\n",
    "print(s)\n",
    "# raw string helps us in treating backslash as a normal character."
   ]
  },
  {
   "cell_type": "code",
   "execution_count": 7,
   "id": "28b40e85",
   "metadata": {},
   "outputs": [
    {
     "name": "stdout",
     "output_type": "stream",
     "text": [
      "C:\\Data\\File Handling\n",
      "C:\\Data\\File Handling\n",
      "C:/Data/File Handling\n"
     ]
    }
   ],
   "source": [
    "# handling file paths\n",
    "\n",
    "print(\"C:\\\\Data\\\\File Handling\")\n",
    "print(r\"C:\\Data\\File Handling\")\n",
    "print(\"C:/Data/File Handling\")"
   ]
  },
  {
   "cell_type": "markdown",
   "id": "bb352f12",
   "metadata": {},
   "source": [
    "### create a folder"
   ]
  },
  {
   "cell_type": "code",
   "execution_count": 5,
   "id": "d73f56d6",
   "metadata": {},
   "outputs": [],
   "source": [
    "import os"
   ]
  },
  {
   "cell_type": "code",
   "execution_count": 2,
   "id": "604e1e5e",
   "metadata": {},
   "outputs": [
    {
     "data": {
      "text/plain": [
       "['Python_prgraming']"
      ]
     },
     "execution_count": 2,
     "metadata": {},
     "output_type": "execute_result"
    }
   ],
   "source": [
    "# check the content of a folder\n",
    "os.listdir(\"G:\\\\Data\")"
   ]
  },
  {
   "cell_type": "code",
   "execution_count": 3,
   "id": "13b488ea",
   "metadata": {},
   "outputs": [
    {
     "name": "stdout",
     "output_type": "stream",
     "text": [
      "G:\\Data\\Python_prgraming\n",
      "G:\\Data\\Python_prgraming\n",
      "G:\\Data\\Python_prgraming\n"
     ]
    },
    {
     "ename": "FileExistsError",
     "evalue": "[WinError 183] Cannot create a file when that file already exists: 'G:\\\\Data\\\\Python_prgraming'",
     "output_type": "error",
     "traceback": [
      "\u001b[1;31m---------------------------------------------------------------------------\u001b[0m",
      "\u001b[1;31mFileExistsError\u001b[0m                           Traceback (most recent call last)",
      "\u001b[1;32m~\\AppData\\Local\\Temp/ipykernel_12644/3712123898.py\u001b[0m in \u001b[0;36m<module>\u001b[1;34m\u001b[0m\n\u001b[0;32m      6\u001b[0m \u001b[0mprint\u001b[0m\u001b[1;33m(\u001b[0m\u001b[0mrootfolder\u001b[0m\u001b[1;33m+\u001b[0m\u001b[1;34m'\\\\'\u001b[0m\u001b[1;33m+\u001b[0m\u001b[0mfoldername\u001b[0m\u001b[1;33m)\u001b[0m\u001b[1;33m\u001b[0m\u001b[1;33m\u001b[0m\u001b[0m\n\u001b[0;32m      7\u001b[0m \u001b[1;33m\u001b[0m\u001b[0m\n\u001b[1;32m----> 8\u001b[1;33m \u001b[0mos\u001b[0m\u001b[1;33m.\u001b[0m\u001b[0mmkdir\u001b[0m\u001b[1;33m(\u001b[0m\u001b[0mos\u001b[0m\u001b[1;33m.\u001b[0m\u001b[0mpath\u001b[0m\u001b[1;33m.\u001b[0m\u001b[0mjoin\u001b[0m\u001b[1;33m(\u001b[0m\u001b[0mrootfolder\u001b[0m\u001b[1;33m,\u001b[0m\u001b[0mfoldername\u001b[0m\u001b[1;33m)\u001b[0m\u001b[1;33m)\u001b[0m\u001b[1;33m\u001b[0m\u001b[1;33m\u001b[0m\u001b[0m\n\u001b[0m",
      "\u001b[1;31mFileExistsError\u001b[0m: [WinError 183] Cannot create a file when that file already exists: 'G:\\\\Data\\\\Python_prgraming'"
     ]
    }
   ],
   "source": [
    "# creat a folder\n",
    "rootfolder = \"G:\\\\Data\"\n",
    "foldername = \"Python_prgraming\"\n",
    "print(\"G:\\\\Data\\\\Python_prgraming\")\n",
    "print(os.path.join(rootfolder,foldername))\n",
    "print(rootfolder+'\\\\'+foldername)\n",
    "\n",
    "os.mkdir(os.path.join(rootfolder,foldername))"
   ]
  },
  {
   "cell_type": "code",
   "execution_count": 7,
   "id": "cccbee23",
   "metadata": {},
   "outputs": [],
   "source": [
    "folderpath = os.path.join(rootfolder,foldername)"
   ]
  },
  {
   "cell_type": "code",
   "execution_count": 8,
   "id": "b8709dc3",
   "metadata": {},
   "outputs": [
    {
     "data": {
      "text/plain": [
       "['markdown.txt']"
      ]
     },
     "execution_count": 8,
     "metadata": {},
     "output_type": "execute_result"
    }
   ],
   "source": [
    "os.listdir(folderpath)"
   ]
  },
  {
   "cell_type": "code",
   "execution_count": 9,
   "id": "43c81821",
   "metadata": {},
   "outputs": [
    {
     "name": "stdout",
     "output_type": "stream",
     "text": [
      "G:\\Data\\Python_prgraming\\markdown.txt\n"
     ]
    },
    {
     "ename": "FileExistsError",
     "evalue": "[Errno 17] File exists: 'G:\\\\Data\\\\Python_prgraming\\\\markdown.txt'",
     "output_type": "error",
     "traceback": [
      "\u001b[1;31m---------------------------------------------------------------------------\u001b[0m",
      "\u001b[1;31mFileExistsError\u001b[0m                           Traceback (most recent call last)",
      "\u001b[1;32m~\\AppData\\Local\\Temp/ipykernel_8516/419362298.py\u001b[0m in \u001b[0;36m<module>\u001b[1;34m\u001b[0m\n\u001b[0;32m      3\u001b[0m \u001b[0mprint\u001b[0m\u001b[1;33m(\u001b[0m\u001b[0mos\u001b[0m\u001b[1;33m.\u001b[0m\u001b[0mpath\u001b[0m\u001b[1;33m.\u001b[0m\u001b[0mjoin\u001b[0m\u001b[1;33m(\u001b[0m\u001b[0mrootfolder\u001b[0m\u001b[1;33m,\u001b[0m\u001b[0mfoldername\u001b[0m\u001b[1;33m,\u001b[0m\u001b[0mfilename1\u001b[0m\u001b[1;33m)\u001b[0m\u001b[1;33m)\u001b[0m\u001b[1;33m\u001b[0m\u001b[1;33m\u001b[0m\u001b[0m\n\u001b[0;32m      4\u001b[0m \u001b[1;31m# craet a file using \"X\"\u001b[0m\u001b[1;33m\u001b[0m\u001b[1;33m\u001b[0m\u001b[0m\n\u001b[1;32m----> 5\u001b[1;33m \u001b[0mfo\u001b[0m \u001b[1;33m=\u001b[0m \u001b[0mopen\u001b[0m\u001b[1;33m(\u001b[0m\u001b[0mos\u001b[0m\u001b[1;33m.\u001b[0m\u001b[0mpath\u001b[0m\u001b[1;33m.\u001b[0m\u001b[0mjoin\u001b[0m\u001b[1;33m(\u001b[0m\u001b[0mrootfolder\u001b[0m\u001b[1;33m,\u001b[0m\u001b[0mfoldername\u001b[0m\u001b[1;33m,\u001b[0m\u001b[0mfilename1\u001b[0m\u001b[1;33m)\u001b[0m\u001b[1;33m,\u001b[0m\u001b[0mmode\u001b[0m\u001b[1;33m=\u001b[0m\u001b[1;34m'x'\u001b[0m\u001b[1;33m)\u001b[0m\u001b[1;33m\u001b[0m\u001b[1;33m\u001b[0m\u001b[0m\n\u001b[0m",
      "\u001b[1;31mFileExistsError\u001b[0m: [Errno 17] File exists: 'G:\\\\Data\\\\Python_prgraming\\\\markdown.txt'"
     ]
    }
   ],
   "source": [
    "# in order to open a file, we need to have a file\n",
    "filename1 = 'markdown.txt'\n",
    "print(os.path.join(rootfolder,foldername,filename1))\n",
    "# craet a file using \"X\"\n",
    "fo = open(os.path.join(rootfolder,foldername,filename1),mode='x')"
   ]
  },
  {
   "cell_type": "code",
   "execution_count": 10,
   "id": "41d679a2",
   "metadata": {},
   "outputs": [
    {
     "ename": "NameError",
     "evalue": "name 'fo' is not defined",
     "output_type": "error",
     "traceback": [
      "\u001b[1;31m---------------------------------------------------------------------------\u001b[0m",
      "\u001b[1;31mNameError\u001b[0m                                 Traceback (most recent call last)",
      "\u001b[1;32m~\\AppData\\Local\\Temp/ipykernel_8516/1111945628.py\u001b[0m in \u001b[0;36m<module>\u001b[1;34m\u001b[0m\n\u001b[1;32m----> 1\u001b[1;33m \u001b[0mtype\u001b[0m\u001b[1;33m(\u001b[0m\u001b[0mfo\u001b[0m\u001b[1;33m)\u001b[0m\u001b[1;33m\u001b[0m\u001b[1;33m\u001b[0m\u001b[0m\n\u001b[0m",
      "\u001b[1;31mNameError\u001b[0m: name 'fo' is not defined"
     ]
    }
   ],
   "source": [
    "type(fo)"
   ]
  },
  {
   "cell_type": "markdown",
   "id": "8a07f397",
   "metadata": {},
   "source": [
    "##### Try to deleting the file"
   ]
  },
  {
   "cell_type": "code",
   "execution_count": 11,
   "id": "fe2dd99e",
   "metadata": {},
   "outputs": [
    {
     "ename": "NameError",
     "evalue": "name 'fo' is not defined",
     "output_type": "error",
     "traceback": [
      "\u001b[1;31m---------------------------------------------------------------------------\u001b[0m",
      "\u001b[1;31mNameError\u001b[0m                                 Traceback (most recent call last)",
      "\u001b[1;32m~\\AppData\\Local\\Temp/ipykernel_8516/2961499910.py\u001b[0m in \u001b[0;36m<module>\u001b[1;34m\u001b[0m\n\u001b[1;32m----> 1\u001b[1;33m \u001b[0mfo\u001b[0m\u001b[1;33m.\u001b[0m\u001b[0mclose\u001b[0m\u001b[1;33m(\u001b[0m\u001b[1;33m)\u001b[0m\u001b[1;33m\u001b[0m\u001b[1;33m\u001b[0m\u001b[0m\n\u001b[0m",
      "\u001b[1;31mNameError\u001b[0m: name 'fo' is not defined"
     ]
    }
   ],
   "source": [
    "fo.close()"
   ]
  },
  {
   "cell_type": "markdown",
   "id": "72e9679d",
   "metadata": {},
   "source": [
    "## Modes in file handling"
   ]
  },
  {
   "cell_type": "markdown",
   "id": "e428d9aa",
   "metadata": {},
   "source": [
    "##### create a file"
   ]
  },
  {
   "cell_type": "code",
   "execution_count": 4,
   "id": "3376ce7a",
   "metadata": {},
   "outputs": [
    {
     "name": "stdout",
     "output_type": "stream",
     "text": [
      "G:\\Data\\Python_prgraming\\markdown1.txt\n"
     ]
    }
   ],
   "source": [
    "filename1 = 'markdown1.txt'\n",
    "print(os.path.join(rootfolder,foldername,filename1))\n",
    "# craet a file using \"X\"\n",
    "fo = open(os.path.join(rootfolder,foldername,filename1),mode='x')\n",
    "fo.close()"
   ]
  },
  {
   "cell_type": "markdown",
   "id": "5809ee2d",
   "metadata": {},
   "source": [
    "##### Read mode"
   ]
  },
  {
   "cell_type": "code",
   "execution_count": 13,
   "id": "4b279484",
   "metadata": {},
   "outputs": [
    {
     "name": "stdout",
     "output_type": "stream",
     "text": [
      "G:\\Data\\Python_prgraming\\markdown.txt\n",
      "Ravi is a bad boy for bad boys\n"
     ]
    }
   ],
   "source": [
    "filename1 = 'markdown.txt'\n",
    "print(os.path.join(rootfolder,foldername,filename1))\n",
    "\n",
    "fo = open(os.path.join(rootfolder,foldername,filename1),mode='r') #by default mode = \"r\"\n",
    "print(fo.read())\n",
    "fo.close()"
   ]
  },
  {
   "cell_type": "markdown",
   "id": "9838fae6",
   "metadata": {},
   "source": [
    "#### Write mode"
   ]
  },
  {
   "cell_type": "code",
   "execution_count": 14,
   "id": "2f92c8e4",
   "metadata": {},
   "outputs": [],
   "source": [
    "filepath = os.path.join(rootfolder,foldername,filename1)\n",
    "fo = open(filepath,mode='w')\n",
    "fo.write('Ravi is a bad boy for bad boys')\n",
    "fo.close()"
   ]
  },
  {
   "cell_type": "code",
   "execution_count": 16,
   "id": "63d939aa",
   "metadata": {},
   "outputs": [
    {
     "name": "stdout",
     "output_type": "stream",
     "text": [
      "39\n"
     ]
    }
   ],
   "source": [
    "filename2='text2.txt'\n",
    "filepath2= os.path.join(rootfolder,foldername,filename2)\n",
    "fo = open(filepath2,mode='w')\n",
    "print(fo.write('python is a very easy language to learn'))\n",
    "fo.close()"
   ]
  },
  {
   "cell_type": "markdown",
   "id": "4e8865b4",
   "metadata": {},
   "source": [
    "#### Append mode"
   ]
  },
  {
   "cell_type": "code",
   "execution_count": 17,
   "id": "dbeafb59",
   "metadata": {},
   "outputs": [],
   "source": [
    "filename3 = 'Test3.csv'\n",
    "filepath3 = os.path.join(rootfolder,foldername,filename3)\n",
    "\n",
    "fo = open(filepath3, mode = 'a')\n",
    "fo.write('Python file handling')\n",
    "fo.close()"
   ]
  },
  {
   "cell_type": "code",
   "execution_count": 18,
   "id": "5a748754",
   "metadata": {},
   "outputs": [],
   "source": [
    "fo = open(filename3,mode='a')\n",
    "fo.write('python programming done by me')\n",
    "fo.close()"
   ]
  },
  {
   "cell_type": "markdown",
   "id": "8c0e6df3",
   "metadata": {},
   "source": [
    "# Read from a file"
   ]
  },
  {
   "cell_type": "code",
   "execution_count": 27,
   "id": "31255f0f",
   "metadata": {},
   "outputs": [],
   "source": [
    "import os"
   ]
  },
  {
   "cell_type": "code",
   "execution_count": 32,
   "id": "bc9abf65",
   "metadata": {},
   "outputs": [
    {
     "data": {
      "text/plain": [
       "['Python_prgraming']"
      ]
     },
     "execution_count": 32,
     "metadata": {},
     "output_type": "execute_result"
    }
   ],
   "source": [
    "\n",
    "rootfolder='G:\\\\Data'\n",
    "foldername1='Python_prgraming'\n",
    "os.listdir(rootfolder)"
   ]
  },
  {
   "cell_type": "code",
   "execution_count": 35,
   "id": "ce6f63cf",
   "metadata": {},
   "outputs": [
    {
     "name": "stdout",
     "output_type": "stream",
     "text": [
      "169\n"
     ]
    }
   ],
   "source": [
    "filenname5='notepad.txt'\n",
    "filepath11 = os.path.join(rootfolder,foldername1,filenname5)\n",
    "f = open(filepath11,'w')\n",
    "print(f.write('''Python is a high-level, interpreted, \n",
    "general-purpose programming language. \n",
    "Its design philosophy emphasizes code \n",
    "readability with the use of significant \n",
    "indentation.'''))\n",
    "f.close()\n",
    "\n"
   ]
  },
  {
   "cell_type": "markdown",
   "id": "1379074a",
   "metadata": {},
   "source": [
    "### using read()"
   ]
  },
  {
   "cell_type": "code",
   "execution_count": 36,
   "id": "b0690824",
   "metadata": {},
   "outputs": [
    {
     "name": "stdout",
     "output_type": "stream",
     "text": [
      "Python is a high-level, interpreted, \n",
      "general-purpose programming language. \n",
      "Its design philosophy emphasizes code \n",
      "readability with the use of significant \n",
      "indentation.\n"
     ]
    }
   ],
   "source": [
    "f=open(filepath11,'r')\n",
    "text=f.read()\n",
    "print(text)"
   ]
  },
  {
   "cell_type": "code",
   "execution_count": 38,
   "id": "fd82941c",
   "metadata": {},
   "outputs": [
    {
     "name": "stdout",
     "output_type": "stream",
     "text": [
      "Python is a high-level, interpreted, \n",
      "general-purpose programming language. \n",
      "Its design philosophy emphasizes code \n",
      "readability with the use of significant \n",
      "indentation.\n"
     ]
    }
   ],
   "source": [
    "# using \"with\" \n",
    "with open(filepath11) as f:\n",
    "    print(f.read())"
   ]
  },
  {
   "cell_type": "code",
   "execution_count": 39,
   "id": "13f8f337",
   "metadata": {},
   "outputs": [
    {
     "name": "stdout",
     "output_type": "stream",
     "text": [
      "Python is \n"
     ]
    }
   ],
   "source": [
    "with open(filepath11) as f:\n",
    "    print(f.read(10))"
   ]
  },
  {
   "cell_type": "markdown",
   "id": "0866faba",
   "metadata": {},
   "source": [
    "### Using readline()"
   ]
  },
  {
   "cell_type": "code",
   "execution_count": 43,
   "id": "8a2704c1",
   "metadata": {},
   "outputs": [
    {
     "name": "stdout",
     "output_type": "stream",
     "text": [
      "Python is a high-level, interpreted, \n",
      "\n",
      "general-purpose programming language. \n",
      "\n",
      "Its design philosophy emphasizes code \n",
      "\n",
      "readability with the use of significant \n",
      "\n"
     ]
    }
   ],
   "source": [
    "with open(filepath11) as f:\n",
    "    print(f.readline())\n",
    "    print(f.readline())\n",
    "    print(f.readline())\n",
    "    print(f.readline())"
   ]
  },
  {
   "cell_type": "markdown",
   "id": "0773dc91",
   "metadata": {},
   "source": [
    "### Using readlines()"
   ]
  },
  {
   "cell_type": "code",
   "execution_count": 44,
   "id": "e8cd9528",
   "metadata": {},
   "outputs": [
    {
     "name": "stdout",
     "output_type": "stream",
     "text": [
      "['Python is a high-level, interpreted, \\n', 'general-purpose programming language. \\n', 'Its design philosophy emphasizes code \\n', 'readability with the use of significant \\n', 'indentation.']\n"
     ]
    }
   ],
   "source": [
    "with open(filepath11) as f:\n",
    "    print(f.readlines())"
   ]
  },
  {
   "cell_type": "code",
   "execution_count": 45,
   "id": "2a538837",
   "metadata": {},
   "outputs": [],
   "source": [
    "with open(filepath11) as f:\n",
    "    i=f.readlines()"
   ]
  },
  {
   "cell_type": "code",
   "execution_count": 47,
   "id": "ae87569d",
   "metadata": {},
   "outputs": [
    {
     "data": {
      "text/plain": [
       "['Python is a high-level, interpreted, \\n',\n",
       " 'general-purpose programming language. \\n',\n",
       " 'Its design philosophy emphasizes code \\n',\n",
       " 'readability with the use of significant \\n',\n",
       " 'indentation.']"
      ]
     },
     "execution_count": 47,
     "metadata": {},
     "output_type": "execute_result"
    }
   ],
   "source": [
    "i[0:30]"
   ]
  },
  {
   "cell_type": "code",
   "execution_count": 48,
   "id": "c1ed12e3",
   "metadata": {},
   "outputs": [
    {
     "name": "stdout",
     "output_type": "stream",
     "text": [
      "['Python', 'is', 'a', 'high-level,', 'interpreted,']\n",
      "['general-purpose', 'programming', 'language.']\n",
      "['Its', 'design', 'philosophy', 'emphasizes', 'code']\n",
      "['readability', 'with', 'the', 'use', 'of', 'significant']\n",
      "['indentation.']\n"
     ]
    }
   ],
   "source": [
    "for k in i:\n",
    "    print(k.split())"
   ]
  },
  {
   "cell_type": "code",
   "execution_count": null,
   "id": "1958a972",
   "metadata": {},
   "outputs": [],
   "source": []
  }
 ],
 "metadata": {
  "kernelspec": {
   "display_name": "Python 3 (ipykernel)",
   "language": "python",
   "name": "python3"
  },
  "language_info": {
   "codemirror_mode": {
    "name": "ipython",
    "version": 3
   },
   "file_extension": ".py",
   "mimetype": "text/x-python",
   "name": "python",
   "nbconvert_exporter": "python",
   "pygments_lexer": "ipython3",
   "version": "3.9.7"
  }
 },
 "nbformat": 4,
 "nbformat_minor": 5
}
