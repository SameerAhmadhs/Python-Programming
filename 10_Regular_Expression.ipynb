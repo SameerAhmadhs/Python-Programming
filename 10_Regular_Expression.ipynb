{
 "cells": [
  {
   "cell_type": "markdown",
   "id": "1bd2c320",
   "metadata": {},
   "source": [
    "\n",
    "# Regular Expressions in Python"
   ]
  },
  {
   "cell_type": "markdown",
   "id": "8f0a3033",
   "metadata": {},
   "source": [
    "### A regular expression (RE or regex) is a sequence of characters which describes textual patterns.\n",
    "The re package provides set of methods to perform common operations using regular expressions.\n",
    "\n",
    "Required module:"
   ]
  },
  {
   "cell_type": "code",
   "execution_count": 2,
   "id": "53c9a3f0",
   "metadata": {},
   "outputs": [],
   "source": [
    "import re"
   ]
  },
  {
   "cell_type": "markdown",
   "id": "78d1b676",
   "metadata": {},
   "source": [
    "The re module offers a set of functions that allows to handle different requirements:\n",
    "\n"
   ]
  },
  {
   "cell_type": "code",
   "execution_count": 3,
   "id": "52dcf891",
   "metadata": {},
   "outputs": [
    {
     "ename": "NameError",
     "evalue": "name 'pd' is not defined",
     "output_type": "error",
     "traceback": [
      "\u001b[1;31m---------------------------------------------------------------------------\u001b[0m",
      "\u001b[1;31mNameError\u001b[0m                                 Traceback (most recent call last)",
      "\u001b[1;32m~\\AppData\\Local\\Temp/ipykernel_15212/516763050.py\u001b[0m in \u001b[0;36m<module>\u001b[1;34m\u001b[0m\n\u001b[1;32m----> 1\u001b[1;33m \u001b[0mpd\u001b[0m\u001b[1;33m.\u001b[0m\u001b[0mDataFrame\u001b[0m\u001b[1;33m(\u001b[0m\u001b[0ma\u001b[0m\u001b[1;33m)\u001b[0m\u001b[1;33m\u001b[0m\u001b[1;33m\u001b[0m\u001b[0m\n\u001b[0m",
      "\u001b[1;31mNameError\u001b[0m: name 'pd' is not defined"
     ]
    }
   ],
   "source": [
    "pd.DataFrame(a)"
   ]
  },
  {
   "cell_type": "code",
   "execution_count": null,
   "id": "594c0a02",
   "metadata": {},
   "outputs": [],
   "source": [
    "# output for all commands in python jupyter notebook\n",
    "from IPython.core.interactiveshell import InteractiveShell\n",
    "InteractiveShell.ast_node_interactivity = \"all\""
   ]
  },
  {
   "cell_type": "markdown",
   "id": "df2b2305",
   "metadata": {},
   "source": [
    "# Create a Regex object"
   ]
  },
  {
   "cell_type": "markdown",
   "id": "a25680df",
   "metadata": {},
   "source": [
    "Passing a string pattern representing your regular expression to re.compile() returns a Regex pattern object - a Regex object."
   ]
  },
  {
   "cell_type": "code",
   "execution_count": null,
   "id": "b0ef54eb",
   "metadata": {},
   "outputs": [],
   "source": [
    "# RegEx object to match a 10-digit mobile number\n",
    "\n",
    "mobileNum_RegEx = re.compile(r'\\d\\d\\d\\d\\d\\d\\d\\d\\d\\d')"
   ]
  },
  {
   "cell_type": "code",
   "execution_count": null,
   "id": "121c36bf",
   "metadata": {},
   "outputs": [],
   "source": [
    "type(mobileNum_RegEx)"
   ]
  },
  {
   "cell_type": "code",
   "execution_count": null,
   "id": "32ad8a55",
   "metadata": {},
   "outputs": [],
   "source": [
    "mobileNum_RegEx"
   ]
  },
  {
   "cell_type": "markdown",
   "id": "322373f5",
   "metadata": {},
   "source": [
    "#### Note:\n",
    "\n",
    "* Remember that escape characters in Python use the backslash (\\).\n",
    "* For example, value '\\n' represents a single newline character, not a backslash followed by a lowercase n.\n",
    "* You need to enter the escape character \\\\ to print a single backslash.\n",
    "* However, by putting an r before the first quote of the string value,\n",
    "you can mark the string as a raw string, which does not escape characters."
   ]
  },
  {
   "cell_type": "markdown",
   "id": "55aa9eb2",
   "metadata": {},
   "source": [
    "### Match RegEx Object"
   ]
  },
  {
   "cell_type": "code",
   "execution_count": null,
   "id": "33e8159d",
   "metadata": {},
   "outputs": [],
   "source": [
    "# Create a RegEx object for toll free number\n",
    "\n",
    "mytext1 = 'Interested in Jio? Talk to us on\t1860-893-3333'\n",
    "\n",
    "# create a re pattern object\n",
    "tollFreeNum_RegEx = re.compile(r'\\d\\d\\d\\d-\\d\\d\\d-\\d\\d\\d\\d')"
   ]
  },
  {
   "cell_type": "markdown",
   "id": "56fd19a2",
   "metadata": {},
   "source": [
    "### search() method\n",
    "A Regex object’s search() method searches the string it is passed for any matches to the regex.\n",
    "\n",
    "\n",
    "* The search() method will return None if the regex pattern is not found in the string.\n",
    "* If the pattern is found, the search() method returns a Match object."
   ]
  },
  {
   "cell_type": "code",
   "execution_count": null,
   "id": "241ce5eb",
   "metadata": {},
   "outputs": [],
   "source": [
    "tfn_no = tollFreeNum_RegEx.search(mytext1)"
   ]
  },
  {
   "cell_type": "code",
   "execution_count": null,
   "id": "ff968153",
   "metadata": {},
   "outputs": [],
   "source": [
    "type(tfn_no)"
   ]
  },
  {
   "cell_type": "code",
   "execution_count": null,
   "id": "ec663018",
   "metadata": {},
   "outputs": [],
   "source": [
    "print(tfn_no)"
   ]
  },
  {
   "cell_type": "markdown",
   "id": "bb50af86",
   "metadata": {},
   "source": [
    "## Extract the text from this web page"
   ]
  },
  {
   "cell_type": "markdown",
   "id": "ca10912e",
   "metadata": {},
   "source": [
    "https://www.jio.com/en-in/help-support/call-us#/"
   ]
  },
  {
   "cell_type": "markdown",
   "id": "8dd25540",
   "metadata": {},
   "source": [
    "#### group() method\n",
    "Match objects have a group() method that will return the actual matched text from the searched string."
   ]
  },
  {
   "cell_type": "code",
   "execution_count": null,
   "id": "b8760389",
   "metadata": {},
   "outputs": [],
   "source": [
    "##### group() method\n",
    "\n",
    "Match objects have a `group()` method that will return the actual matched"
   ]
  },
  {
   "cell_type": "code",
   "execution_count": null,
   "id": "269b054d",
   "metadata": {},
   "outputs": [],
   "source": [
    "# re.compile() -> Pattern object -> search() -> Match object -> group()\n",
    "\n",
    "print('Identified number is: ' + tfn_no.group())\n",
    "print('Identified number is: ' + tfn_no.group(0))\n",
    "print('Identified number is: ' + tfn_no.group(1))\n",
    "print('Identified number is: ' + tfn_no.group(2))\n",
    "print('Identified number is: ' + tfn_no.group(3))"
   ]
  },
  {
   "cell_type": "markdown",
   "id": "d221d6f6",
   "metadata": {},
   "source": [
    "### Grouping with Parentheses\n",
    "Adding parentheses () will create groups in the regex: (\\d\\d\\d\\d)-(\\d\\d\\d)-(\\d\\d\\d\\d).\n",
    "\n",
    "\n",
    "Then you can use the group() match object method to grab the matching text from just one group."
   ]
  },
  {
   "cell_type": "code",
   "execution_count": null,
   "id": "28b4e9d7",
   "metadata": {},
   "outputs": [],
   "source": [
    "tollFreeNum_RegEx = re.compile(r'(\\d\\d\\d\\d)-((\\d\\d\\d)-(\\d\\d\\d\\d))')"
   ]
  },
  {
   "cell_type": "code",
   "execution_count": null,
   "id": "4195498c",
   "metadata": {},
   "outputs": [],
   "source": [
    "tfn_mo = tollFreeNum_RegEx.search(mytext1)\n",
    "print(tfn_mo)"
   ]
  },
  {
   "cell_type": "code",
   "execution_count": null,
   "id": "b577ad93",
   "metadata": {},
   "outputs": [],
   "source": [
    "# Extract different parts of the matched text using integers -  1/2/3 . \n",
    "\n",
    "# Passing 0 or nothing to the group() method will return the entire matched t\n",
    "\n",
    "print('Identified number is: ' + tfn_mo.group())\n",
    "print('Identified number is: ' + tfn_mo.group(0))\n",
    "print('Identified number is: ' + tfn_mo.group(1))\n",
    "print('Identified number is: ' + tfn_mo.group(2))\n",
    "print('Identified number is: ' + tfn_mo.group(3))\n",
    "print('Identified number is: ' + tfn_mo.group(4))"
   ]
  },
  {
   "cell_type": "markdown",
   "id": "213eed37",
   "metadata": {},
   "source": [
    "### groups() on Match Object"
   ]
  },
  {
   "cell_type": "code",
   "execution_count": null,
   "id": "7e08ac0f",
   "metadata": {},
   "outputs": [],
   "source": [
    "# retrieve all the groups at once, use the groups()\n",
    "\n",
    "# groups() returns a tuple of multiple values, you can use the multiple-assignme\n",
    "print(tfn_mo.groups())\n",
    "maincode, x, subcode, number = tfn_mo.groups()\n",
    "\n",
    "print(maincode, x, subcode, number)"
   ]
  },
  {
   "cell_type": "markdown",
   "id": "4adc2912",
   "metadata": {},
   "source": [
    "## Matching paranthesis ()"
   ]
  },
  {
   "cell_type": "code",
   "execution_count": null,
   "id": "f5a14b1a",
   "metadata": {},
   "outputs": [],
   "source": [
    "mytext2 = 'Iterested in Jio? Talk to us on\t(1860)-893-3333'"
   ]
  },
  {
   "cell_type": "code",
   "execution_count": null,
   "id": "3397a2de",
   "metadata": {},
   "outputs": [],
   "source": [
    "# Create a RegEx object for toll free number\n",
    "\n",
    "tollFreeNum_RegEx = re.compile(r'\\d\\d\\d\\d-\\d\\d\\d-\\d\\d\\d\\d')\n",
    "\n",
    "# create a Match Object using the search() method on the RegEx Object\n",
    "\n",
    "tfn_mo = tollFreeNum_RegEx.search(mytext2)\n",
    "print(tfn_mo)\n"
   ]
  },
  {
   "cell_type": "code",
   "execution_count": null,
   "id": "3f5481dd",
   "metadata": {},
   "outputs": [],
   "source": [
    "# Create a RegEx object for toll free number\n",
    "\n",
    "tollFreeNum_RegEx =  re.compile(r'(\\d\\d\\d\\d)-(\\d\\d\\d)-(\\d\\d\\d\\d)')\n",
    "\n",
    "# create a Match Object using the search() method on the RegEx Object\n",
    "\n",
    "tfn_mo = tollFreeNum_RegEx.search(mytext2)\n",
    "\n",
    "print(tfn_mo)"
   ]
  },
  {
   "cell_type": "markdown",
   "id": "25154d13",
   "metadata": {},
   "source": [
    "### Use Escape character\n",
    "\\ is an escape character."
   ]
  },
  {
   "cell_type": "code",
   "execution_count": null,
   "id": "38a69c36",
   "metadata": {},
   "outputs": [],
   "source": [
    "# Create a RegEx object for toll free number\n",
    "\n",
    "tollFreeNum_RegEx =  re.compile(r'\\(\\d\\d\\d\\d\\)-\\d\\d\\d-\\d\\d\\d\\d')\n",
    "\n",
    "# create a Match Object using the search() method on the RegEx Object\n",
    "\n",
    "tfn_mo = tollFreeNum_RegEx.search(mytext2)\n",
    "\n",
    "print(tfn_mo)"
   ]
  },
  {
   "cell_type": "markdown",
   "id": "779bbfc1",
   "metadata": {},
   "source": [
    "## Matching Multiple Groups with the Pipe\n",
    "The | character is called a pipe. You can use it anywhere you want to match one of many expressions.\n",
    "\n",
    "\n",
    "\n",
    "When both patterns occur in the searched string, the first occurrence of matching text will be returned as the Match object."
   ]
  },
  {
   "cell_type": "code",
   "execution_count": null,
   "id": "c5aa63a6",
   "metadata": {},
   "outputs": [],
   "source": [
    "mytext3 = '''Our experts are available for your assistance 24x7 (Monday - Sunday)\n",
    "\n",
    "Interested in Jio? Talk to us on 1860-893-3333\n",
    "For recharge plans, data balance, validity, recharge confirmation & offers\t1991\n",
    "For Queries\t199\n",
    "For Complaints\t198\n",
    "Calling from Non Jio number\t1800-889-9999'''"
   ]
  },
  {
   "cell_type": "code",
   "execution_count": null,
   "id": "14b9c643",
   "metadata": {},
   "outputs": [],
   "source": [
    "tollFreeNum_RegEx = re.compile(r'(\\d\\d\\d\\d)|(\\d\\d\\d\\d)-(\\d\\d\\d)-(\\d\\d\\d\\d)')"
   ]
  },
  {
   "cell_type": "code",
   "execution_count": null,
   "id": "8063452b",
   "metadata": {},
   "outputs": [],
   "source": [
    "tfn_mo = tollFreeNum_RegEx.search(mytext3)\n",
    "print('Identified number is: ' + tfn_mo.group())\n",
    "print(tfn_mo.groups())"
   ]
  },
  {
   "cell_type": "code",
   "execution_count": null,
   "id": "ed21f984",
   "metadata": {},
   "outputs": [],
   "source": [
    "moviename_RegEx = re.compile(r'(Iron|Bat|Ant|He) Man')\n",
    "\n",
    "movie_mo = moviename_RegEx.search('Bat Man 2 is a 2010 American superhero film')\n",
    "\n",
    "print(movie_mo.group(1)) # returns the matched text from the group inside parantheses\n",
    "print(movie_mo.group(0))"
   ]
  },
  {
   "cell_type": "markdown",
   "id": "82b66551",
   "metadata": {},
   "source": [
    "**Note:** To find & match pipe (|) symbol use \\|."
   ]
  },
  {
   "cell_type": "markdown",
   "id": "8bc2300b",
   "metadata": {},
   "source": [
    "## Solve the below question"
   ]
  },
  {
   "cell_type": "code",
   "execution_count": null,
   "id": "385ab00f",
   "metadata": {},
   "outputs": [],
   "source": [
    "mytext4 = '''For support on International Roaming \n",
    "(accessible only when roaming abroad)\t\n",
    "+91-7018899999 (charges applicable)'''"
   ]
  },
  {
   "cell_type": "code",
   "execution_count": null,
   "id": "c8cf88c9",
   "metadata": {},
   "outputs": [],
   "source": [
    "mobno = re.compile(r'(\\d\\d)-(\\d\\d\\d\\d\\d\\d\\d\\d\\d\\d)')"
   ]
  },
  {
   "cell_type": "code",
   "execution_count": null,
   "id": "e51b1fc5",
   "metadata": {},
   "outputs": [],
   "source": [
    "mobilnum = mobno.search(mytext4)\n",
    "print(mobilnum)\n",
    "print(mobilnum.groups())"
   ]
  },
  {
   "cell_type": "code",
   "execution_count": null,
   "id": "0bc38927",
   "metadata": {},
   "outputs": [],
   "source": [
    "len(mytext4)\n",
    "mytext4[78:91]"
   ]
  },
  {
   "cell_type": "markdown",
   "id": "c834bb21",
   "metadata": {},
   "source": [
    "## Optional Matching with the Question Mark\n",
    "Sometimes there is a pattern that you want to match only optionally.\n",
    "\n",
    "\n",
    "The `?` character `flags the group that precedes it` as an optional part of the pattern."
   ]
  },
  {
   "cell_type": "code",
   "execution_count": null,
   "id": "42d95ca8",
   "metadata": {},
   "outputs": [],
   "source": [
    "mytext4 = '''For support on International Roaming \n",
    "(accessible only when roaming abroad)\t\n",
    "+91-7018899999 (charges applicable)'''"
   ]
  },
  {
   "cell_type": "code",
   "execution_count": null,
   "id": "ca9a3e23",
   "metadata": {},
   "outputs": [],
   "source": [
    "mobilenum_RegEx = re.compile(r'(\\d\\d)?(-)?(\\d\\d\\d\\d\\d\\d\\d\\d\\d\\d)')"
   ]
  },
  {
   "cell_type": "code",
   "execution_count": null,
   "id": "5a19b1d7",
   "metadata": {},
   "outputs": [],
   "source": [
    "mo = mobilenum_RegEx.search(mytext4)\n",
    "print(mo)\n",
    "print(mo.group())\n",
    "print(mo.groups())"
   ]
  },
  {
   "cell_type": "code",
   "execution_count": null,
   "id": "a9230b6a",
   "metadata": {},
   "outputs": [],
   "source": [
    "mytext4 = '''For support on International Roaming \n",
    "(accessible only when roaming abroad)\t\n",
    "7018899999 (charges applicable)'''# in this text we have removed \n",
    "                                   #91-"
   ]
  },
  {
   "cell_type": "code",
   "execution_count": null,
   "id": "5202f49f",
   "metadata": {},
   "outputs": [],
   "source": [
    "mobilenum_RegEx = re.compile(r'(\\d\\d)?(-)?(\\d\\d\\d\\d\\d\\d\\d\\d\\d\\d)')\n",
    "mo3 = mobilenum_RegEx.search(mytext4)\n",
    "\n",
    "mo3.group()\n",
    "mo3.groups()"
   ]
  },
  {
   "cell_type": "markdown",
   "id": "a9e41ef5",
   "metadata": {},
   "source": [
    "**Note:** To use actual question mark (?), use \\?."
   ]
  },
  {
   "cell_type": "markdown",
   "id": "8da43e01",
   "metadata": {},
   "source": [
    "## Matching Zero or More with the Star\n",
    "The * (star or asterisk) means match zero or more —the group that\n",
    "\n",
    "\n",
    "precedes the star can occur any number of times in the text.\n",
    "\n",
    "\n",
    "It can be completely absent or repeated over and over again."
   ]
  },
  {
   "cell_type": "code",
   "execution_count": 5,
   "id": "2c608479",
   "metadata": {},
   "outputs": [],
   "source": [
    "mytext5 = '''Our experts are available for your assistance 24x7 (Monday - Sunday)\n",
    "\n",
    "Interested in Jio? Talk to us on\t1860-893-3333\n",
    "For recharge plans, data balance, validity, recharge confirmation & offers\t1991\n",
    "For Queries\t199\n",
    "For Complaints\t198\n",
    "Calling from Non Jio number\t1800-889-9999\n",
    "Tele-verification to activate both HD voice & data services\t1977\n",
    "For support on International Roaming (accessible only \n",
    "when roaming abroad)\t+917018899999 (charges applicable)'''"
   ]
  },
  {
   "cell_type": "code",
   "execution_count": 4,
   "id": "97e5737e",
   "metadata": {},
   "outputs": [],
   "source": [
    "number_RegEx = re.compile(r'\\d\\d\\d')"
   ]
  },
  {
   "cell_type": "markdown",
   "id": "baf60877",
   "metadata": {},
   "source": [
    "### findall() in regex\n",
    "In addition to the search() method, Regex objects also have a findall() method.\n",
    "\n",
    "While search() will return a Match object of the first matched text in the searched string, the findall() method will return the strings of every match in the searched string."
   ]
  },
  {
   "cell_type": "code",
   "execution_count": 6,
   "id": "68740db2",
   "metadata": {},
   "outputs": [
    {
     "name": "stdout",
     "output_type": "stream",
     "text": [
      "['186', '893', '333', '199', '199', '198', '180', '889', '999', '197', '917', '018', '899', '999']\n"
     ]
    }
   ],
   "source": [
    "print(number_RegEx.findall(mytext5))"
   ]
  },
  {
   "cell_type": "code",
   "execution_count": 7,
   "id": "50502cbf",
   "metadata": {},
   "outputs": [
    {
     "name": "stdout",
     "output_type": "stream",
     "text": [
      "[('1860', '0'), ('893', ''), ('3333', '3'), ('1991', '1'), ('199', ''), ('198', ''), ('1800', '0'), ('889', ''), ('9999', '9'), ('1977', '7'), ('917018899999', '9')]\n"
     ]
    }
   ],
   "source": [
    "# use * for zero or more matches\n",
    "number_RegEx = re.compile(r'(\\d\\d\\d(\\d)*)')\n",
    "print(number_RegEx.findall(mytext5))"
   ]
  },
  {
   "cell_type": "markdown",
   "id": "621dfacb",
   "metadata": {},
   "source": [
    "Note: If you need to match an actual star character, prefix the star in the regular expression with a backslash, \\*."
   ]
  },
  {
   "cell_type": "markdown",
   "id": "14ac95b9",
   "metadata": {},
   "source": [
    "### Matching One or More with the Plus"
   ]
  },
  {
   "cell_type": "code",
   "execution_count": 8,
   "id": "d7bfa85a",
   "metadata": {},
   "outputs": [
    {
     "name": "stdout",
     "output_type": "stream",
     "text": [
      "[('1860', '0'), ('3333', '3'), ('1991', '1'), ('1800', '0'), ('9999', '9'), ('1977', '7'), ('917018899999', '9')]\n"
     ]
    }
   ],
   "source": [
    "# use + for one or more matches\n",
    "number_RegEx = re.compile(r'(\\d\\d\\d(\\d)+)')\n",
    "\n",
    "print(number_RegEx.findall(mytext5))"
   ]
  },
  {
   "cell_type": "markdown",
   "id": "c01443ab",
   "metadata": {},
   "source": [
    "Note: If you need to match an actual plus sign character, prefix the plus sign with a backslash to escape it: \\+."
   ]
  },
  {
   "cell_type": "markdown",
   "id": "9fdbfd79",
   "metadata": {},
   "source": [
    "## Matching Specific Repetitions with Curly Brackets"
   ]
  },
  {
   "cell_type": "code",
   "execution_count": 10,
   "id": "cfa179dc",
   "metadata": {},
   "outputs": [
    {
     "name": "stdout",
     "output_type": "stream",
     "text": [
      "[('1860', '0'), ('3333', '3'), ('1991', '1'), ('1800', '0'), ('9999', '9'), ('1977', '7'), ('9170', '0'), ('1889', '9'), ('9999', '9')]\n"
     ]
    }
   ],
   "source": [
    "number_RegEx = re.compile(r'(\\d\\d\\d(\\d){1})')\n",
    "\n",
    "# the above pattern is same as \\d\\d\\d\\d\n",
    "\n",
    "print(number_RegEx.findall(mytext5))"
   ]
  },
  {
   "cell_type": "code",
   "execution_count": 14,
   "id": "a3526015",
   "metadata": {},
   "outputs": [
    {
     "name": "stdout",
     "output_type": "stream",
     "text": [
      "[('91701', '1'), ('88999', '9')]\n"
     ]
    }
   ],
   "source": [
    "number_RegEx = re.compile(r'(\\d\\d\\d(\\d){2})')\n",
    "\n",
    "# the above pattern is same as \\d\\d\\d\\d\\d\\d\\\n",
    "\n",
    "print(number_RegEx.findall(mytext5))"
   ]
  },
  {
   "cell_type": "code",
   "execution_count": 15,
   "id": "b0118dfa",
   "metadata": {},
   "outputs": [
    {
     "name": "stdout",
     "output_type": "stream",
     "text": [
      "[('917018899999', '9')]\n"
     ]
    }
   ],
   "source": [
    "number_RegEx = re.compile(r'(\\d\\d\\d(\\d){3,})')\n",
    "\n",
    "# the above pattern is same as min 6 and max infinity\n",
    "\n",
    "print(number_RegEx.findall(mytext5))"
   ]
  },
  {
   "cell_type": "code",
   "execution_count": 26,
   "id": "54e3726e",
   "metadata": {},
   "outputs": [
    {
     "name": "stdout",
     "output_type": "stream",
     "text": [
      "[('917018899999', '9')]\n"
     ]
    }
   ],
   "source": [
    "number_RegEx = re.compile(r'(\\d\\d\\d(\\d){6,9})')\n",
    "\n",
    "# the above pattern is same as min 6 and max 9\n",
    "\n",
    "print(number_RegEx.findall(mytext5))"
   ]
  },
  {
   "cell_type": "markdown",
   "id": "8f681845",
   "metadata": {},
   "source": [
    "## Character Classes"
   ]
  },
  {
   "cell_type": "markdown",
   "id": "5a0aed0e",
   "metadata": {},
   "source": [
    "Character class\t              Description\n",
    "\\d\t               Any numeric digit from 0 to 9.\n",
    "\\D\t               Any character that is not a numeric digit from 0 to 9.\n",
    "\\w\t               Any letter, numeric digit, or the underscore character.\n",
    "\\W              \tAny character that is not a letter, numeric digit, or the underscore\n",
    "  character.\n",
    "\\s\t              Any space, tab, or newline character. (Think of this as matching “space”\n",
    "  characters.)\n",
    "\\S\t              Any character that is not a space, tab, or newline.\n",
    "\\b\t              Word boundary. This is a zero-width assertion that matches only at the beginning or end of a word.\n"
   ]
  },
  {
   "cell_type": "markdown",
   "id": "dc91273b",
   "metadata": {},
   "source": [
    "* Character classes are nice for shortening regular expressions.\n",
    "\n",
    "\\d is shorthand for the regular expression (0|1|2|3|4|5|6|7|8|9)."
   ]
  },
  {
   "cell_type": "code",
   "execution_count": 27,
   "id": "ecd57b25",
   "metadata": {},
   "outputs": [
    {
     "name": "stdout",
     "output_type": "stream",
     "text": [
      "Our experts are available for your assistance 24x7 (Monday - Sunday)\n",
      "\n",
      "Interested in Jio? Talk to us on\t1860-893-3333\n",
      "For recharge plans, data balance, validity, recharge confirmation & offers\t1991\n",
      "For Queries\t199\n",
      "For Complaints\t198\n",
      "Calling from Non Jio number\t1800-889-9999\n",
      "Tele-verification to activate both HD voice & data services\t1977\n",
      "For support on International Roaming (accessible only \n",
      "when roaming abroad)\t+917018899999 (charges applicable)\n"
     ]
    }
   ],
   "source": [
    "print(mytext5)"
   ]
  },
  {
   "cell_type": "code",
   "execution_count": 28,
   "id": "eb94bba8",
   "metadata": {},
   "outputs": [],
   "source": [
    "myregex = re.compile(r'\\d+\\s\\w+')\n",
    "# this is same as\n",
    "# (0|1|2|3|4|5|6|7|8|9)+(space/tab space/new line)(a-z/A-Z/0-9/_)+"
   ]
  },
  {
   "cell_type": "code",
   "execution_count": 29,
   "id": "4623b9fe",
   "metadata": {},
   "outputs": [
    {
     "name": "stdout",
     "output_type": "stream",
     "text": [
      "['3333\\nFor', '1991\\nFor', '199\\nFor', '198\\nCalling', '9999\\nTele', '1977\\nFor']\n"
     ]
    }
   ],
   "source": [
    "print(myregex.findall(mytext5))"
   ]
  },
  {
   "cell_type": "markdown",
   "id": "f0711dba",
   "metadata": {},
   "source": [
    "## Match a set of characters - using [] braces"
   ]
  },
  {
   "cell_type": "code",
   "execution_count": 34,
   "id": "81ed1101",
   "metadata": {},
   "outputs": [
    {
     "name": "stdout",
     "output_type": "stream",
     "text": [
      "['assistance', 'Interested', 'confirmati', 'Complaints', 'verificati', 'Internatio', 'accessible', '9170188999', 'applicable']\n"
     ]
    }
   ],
   "source": [
    "# [] used for building custom patterns\n",
    "myregex = re.compile(r'[a-zA-Z0-9]{10}')\n",
    "print(myregex.findall(mytext5))"
   ]
  },
  {
   "cell_type": "markdown",
   "id": "1e690e1e",
   "metadata": {},
   "source": [
    "## To-Do tasks\n",
    "* Match and identify PAN numbers\n",
    "* Build a pattern to match Email Id\n",
    "* Build a pattern to match car number plate"
   ]
  },
  {
   "cell_type": "code",
   "execution_count": 35,
   "id": "6ae504bf",
   "metadata": {},
   "outputs": [
    {
     "name": "stdout",
     "output_type": "stream",
     "text": [
      "['Our expert', 's are avai', 'lable for ', 'your assis', 'tance 24x7', '\\n\\nInterest', ' Talk to u', '3333\\nFor r', 'echarge pl', ' data bala', ' recharge ', 'confirmati', ' offers\\t19', '91\\nFor Que', 'ries\\t199\\nF', 'or Complai', 'nts\\t198\\nCa', 'lling from', ' Non Jio n', 'umber\\t1800', 'verificati', 'on to acti', 'vate both ', ' data serv', 'ices\\t1977\\n', 'For suppor', 't on Inter', 'national R', 'accessible', ' only \\nwhe', 'n roaming ', '9170188999', 'charges ap']\n"
     ]
    }
   ],
   "source": [
    "myregex = re.compile(r'[a-zA-Z0-9\\s]{10}')\n",
    "print(myregex.findall(mytext5))"
   ]
  },
  {
   "cell_type": "code",
   "execution_count": 36,
   "id": "07510214",
   "metadata": {},
   "outputs": [
    {
     "name": "stdout",
     "output_type": "stream",
     "text": [
      "['Our experts are available for your assistance 24x7 ', 'Monday ', ' Sunday', '\\n\\nInterested in Jio', ' Talk to us on\\t1860', '893', '3333\\nFor recharge plans', ' data balance', ' validity', ' recharge confirmation ', ' offers\\t1991\\nFor Queries\\t199\\nFor Complaints\\t198\\nCalling from Non Jio number\\t1800', '889', '9999\\nTele', 'verification to activate both HD voice ', ' data services\\t1977\\nFor support on International Roaming ', 'accessible only \\nwhen roaming abroad', '\\t', '917018899999 ', 'charges applicable']\n"
     ]
    }
   ],
   "source": [
    "myregex = re.compile(r'[a-zA-Z0-9\\s]+')\n",
    "print(myregex.findall(mytext5))"
   ]
  },
  {
   "cell_type": "code",
   "execution_count": 37,
   "id": "ffa412b4",
   "metadata": {},
   "outputs": [
    {
     "name": "stdout",
     "output_type": "stream",
     "text": [
      "['Our experts are available for your assistance 24x7 (Monday ', ' Sunday)\\n\\nInterested in Jio', ' Talk to us on\\t1860', '893', '3333\\nFor recharge plans', ' data balance', ' validity', ' recharge confirmation ', ' offers\\t1991\\nFor Queries\\t199\\nFor Complaints\\t198\\nCalling from Non Jio number\\t1800', '889', '9999\\nTele', 'verification to activate both HD voice ', ' data services\\t1977\\nFor support on International Roaming (accessible only \\nwhen roaming abroad)\\t', '917018899999 (charges applicable)']\n"
     ]
    }
   ],
   "source": [
    "myregex = re.compile(r'[a-zA-Z0-9\\s()]+')\n",
    "print(myregex.findall(mytext5))"
   ]
  },
  {
   "cell_type": "code",
   "execution_count": 38,
   "id": "60cc07c9",
   "metadata": {},
   "outputs": [
    {
     "name": "stdout",
     "output_type": "stream",
     "text": [
      "['Our experts are available for your assistance 24x7 (Monday - Sunday)\\n\\nInterested in Jio? Talk to us on\\t1860-893-3333\\nFor recharge plans, data balance, validity, recharge confirmation ', ' offers\\t1991\\nFor Queries\\t199\\nFor Complaints\\t198\\nCalling from Non Jio number\\t1800-889-9999\\nTele-verification to activate both HD voice ', ' data services\\t1977\\nFor support on International Roaming (accessible only \\nwhen roaming abroad)\\t+917018899999 (charges applicable)']\n"
     ]
    }
   ],
   "source": [
    "myregex = re.compile(r'[a-zA-Z0-9\\s()-?]+')\n",
    "print(myregex.findall(mytext5))"
   ]
  },
  {
   "cell_type": "code",
   "execution_count": 40,
   "id": "5f3c43f8",
   "metadata": {},
   "outputs": [
    {
     "name": "stdout",
     "output_type": "stream",
     "text": [
      "['Our experts are available for your assistance 24x7 (Monday - Sunday)\\n\\nInterested in Jio? Talk to us on\\t1860-893-3333\\nFor recharge plans, data balance, validity, recharge confirmation ', ' offers\\t1991\\nFor Queries\\t199\\nFor Complaints\\t198\\nCalling from Non Jio number\\t1800-889-9999\\nTele-verification to activate both HD voice ', ' data services\\t1977\\nFor support on International Roaming (accessible only \\nwhen roaming abroad)\\t+917018899999 (charges applicable)']\n"
     ]
    }
   ],
   "source": [
    "myregex = re.compile(r'[a-zA-Z0-9\\s()-?,]+')# it could be break from special chrt if we do not pass it\n",
    "print(myregex.findall(mytext5))"
   ]
  },
  {
   "cell_type": "code",
   "execution_count": 41,
   "id": "fcc68bb9",
   "metadata": {},
   "outputs": [
    {
     "name": "stdout",
     "output_type": "stream",
     "text": [
      "['experts', 'available', 'assistance', 'Interested', 'recharge', 'balance', 'validity', 'recharge', 'confirmation', 'Queries', 'Complaints', 'Calling', 'verification', 'activate', 'services', 'support', 'International', 'Roaming', 'accessible', 'roaming', 'charges', 'applicable']\n"
     ]
    }
   ],
   "source": [
    "myregex = re.compile(r'[a-zA-Z]{7,}')\n",
    "print(myregex.findall(mytext5))"
   ]
  },
  {
   "cell_type": "code",
   "execution_count": 42,
   "id": "408df308",
   "metadata": {},
   "outputs": [
    {
     "name": "stdout",
     "output_type": "stream",
     "text": [
      "['plans', 'voice']\n",
      "['Monday', 'Sunday', 'offers', 'number', 'abroad']\n",
      "['experts', 'balance', 'Queries', 'Calling', 'support', 'Roaming', 'roaming', 'charges']\n",
      "['assistance', 'Interested', 'Complaints', 'accessible', 'applicable']\n"
     ]
    }
   ],
   "source": [
    "# exactly 5 letter complete words\n",
    "myregex = re.compile(r'\\b[a-zA-Z]{5}\\b')\n",
    "print(myregex.findall(mytext5))\n",
    "\n",
    "# exactly 6 letter complete words\n",
    "myregex = re.compile(r'\\b[a-zA-Z]{6}\\b')\n",
    "print(myregex.findall(mytext5))\n",
    "\n",
    "# exactly 7 letter complete words\n",
    "myregex = re.compile(r'\\b[a-zA-Z]{7}\\b')\n",
    "print(myregex.findall(mytext5))\n",
    "\n",
    "# exactly 10 letter complete words\n",
    "myregex = re.compile(r'\\b[a-zA-Z]{10}\\b')\n",
    "print(myregex.findall(mytext5))"
   ]
  },
  {
   "cell_type": "code",
   "execution_count": 43,
   "id": "d68d4227",
   "metadata": {},
   "outputs": [
    {
     "name": "stdout",
     "output_type": "stream",
     "text": [
      "['O', 'u', 'r', ' ', 'e', 'x', 'p', 'e', 'r', 't', 's', ' ', 'a', 'r', 'e', ' ', 'a', 'v', 'a', 'i', 'l', 'a', 'b', 'l', 'e', ' ', 'f', 'o', 'r', ' ', 'y', 'o', 'u', 'r', ' ', 'a', 's', 's', 'i', 's', 't', 'a', 'n', 'c', 'e', ' ', '2', '4', 'x', '7', ' ', 'M', 'o', 'n', 'd', 'a', 'y', ' ', ' ', 'S', 'u', 'n', 'd', 'a', 'y', '\\n', '\\n', 'I', 'n', 't', 'e', 'r', 'e', 's', 't', 'e', 'd', ' ', 'i', 'n', ' ', 'J', 'i', 'o', ' ', 'T', 'a', 'l', 'k', ' ', 't', 'o', ' ', 'u', 's', ' ', 'o', 'n', '\\t', '1', '8', '6', '0', '8', '9', '3', '3', '3', '3', '3', '\\n', 'F', 'o', 'r', ' ', 'r', 'e', 'c', 'h', 'a', 'r', 'g', 'e', ' ', 'p', 'l', 'a', 'n', 's', ' ', 'd', 'a', 't', 'a', ' ', 'b', 'a', 'l', 'a', 'n', 'c', 'e', ' ', 'v', 'a', 'l', 'i', 'd', 'i', 't', 'y', ' ', 'r', 'e', 'c', 'h', 'a', 'r', 'g', 'e', ' ', 'c', 'o', 'n', 'f', 'i', 'r', 'm', 'a', 't', 'i', 'o', 'n', ' ', ' ', 'o', 'f', 'f', 'e', 'r', 's', '\\t', '1', '9', '9', '1', '\\n', 'F', 'o', 'r', ' ', 'Q', 'u', 'e', 'r', 'i', 'e', 's', '\\t', '1', '9', '9', '\\n', 'F', 'o', 'r', ' ', 'C', 'o', 'm', 'p', 'l', 'a', 'i', 'n', 't', 's', '\\t', '1', '9', '8', '\\n', 'C', 'a', 'l', 'l', 'i', 'n', 'g', ' ', 'f', 'r', 'o', 'm', ' ', 'N', 'o', 'n', ' ', 'J', 'i', 'o', ' ', 'n', 'u', 'm', 'b', 'e', 'r', '\\t', '1', '8', '0', '0', '8', '8', '9', '9', '9', '9', '9', '\\n', 'T', 'e', 'l', 'e', 'v', 'e', 'r', 'i', 'f', 'i', 'c', 'a', 't', 'i', 'o', 'n', ' ', 't', 'o', ' ', 'a', 'c', 't', 'i', 'v', 'a', 't', 'e', ' ', 'b', 'o', 't', 'h', ' ', 'H', 'D', ' ', 'v', 'o', 'i', 'c', 'e', ' ', ' ', 'd', 'a', 't', 'a', ' ', 's', 'e', 'r', 'v', 'i', 'c', 'e', 's', '\\t', '1', '9', '7', '7', '\\n', 'F', 'o', 'r', ' ', 's', 'u', 'p', 'p', 'o', 'r', 't', ' ', 'o', 'n', ' ', 'I', 'n', 't', 'e', 'r', 'n', 'a', 't', 'i', 'o', 'n', 'a', 'l', ' ', 'R', 'o', 'a', 'm', 'i', 'n', 'g', ' ', 'a', 'c', 'c', 'e', 's', 's', 'i', 'b', 'l', 'e', ' ', 'o', 'n', 'l', 'y', ' ', '\\n', 'w', 'h', 'e', 'n', ' ', 'r', 'o', 'a', 'm', 'i', 'n', 'g', ' ', 'a', 'b', 'r', 'o', 'a', 'd', '\\t', '9', '1', '7', '0', '1', '8', '8', '9', '9', '9', '9', '9', ' ', 'c', 'h', 'a', 'r', 'g', 'e', 's', ' ', 'a', 'p', 'p', 'l', 'i', 'c', 'a', 'b', 'l', 'e']\n"
     ]
    }
   ],
   "source": [
    "myregex = re.compile('[a-zA-Z0-9\\s]')\n",
    "print(myregex.findall(mytext5))"
   ]
  },
  {
   "cell_type": "code",
   "execution_count": 44,
   "id": "769cbfe0",
   "metadata": {},
   "outputs": [
    {
     "name": "stdout",
     "output_type": "stream",
     "text": [
      "['Our', 'experts', 'are', 'available', 'for', 'your', 'assistance', '24x7', '(Monday', '-', 'Sunday)', 'Interested', 'in', 'Jio?', 'Talk', 'to', 'us', 'on', '1860-893-3333', 'For', 'recharge', 'plans,', 'data', 'balance,', 'validity,', 'recharge', 'confirmation', '&', 'offers', '1991', 'For', 'Queries', '199', 'For', 'Complaints', '198', 'Calling', 'from', 'Non', 'Jio', 'number', '1800-889-9999', 'Tele-verification', 'to', 'activate', 'both', 'HD', 'voice', '&', 'data', 'services', '1977', 'For', 'support', 'on', 'International', 'Roaming', '(accessible', 'only', 'when', 'roaming', 'abroad)', '+917018899999', '(charges', 'applicable)']\n"
     ]
    }
   ],
   "source": [
    "myregex = re.compile('[\\S]+')\n",
    "print(myregex.findall(mytext5))\n"
   ]
  },
  {
   "cell_type": "code",
   "execution_count": 45,
   "id": "389e039e",
   "metadata": {},
   "outputs": [
    {
     "name": "stdout",
     "output_type": "stream",
     "text": [
      "['Our', 'experts', 'are', 'available', 'for', 'your', 'assistance', '24x7', 'Monday', 'Sunday', 'Interested', 'in', 'Jio', 'Talk', 'to', 'us', 'on', '1860', '893', '3333', 'For', 'recharge', 'plans', 'data', 'balance', 'validity', 'recharge', 'confirmation', 'offers', '1991', 'For', 'Queries', '199', 'For', 'Complaints', '198', 'Calling', 'from', 'Non', 'Jio', 'number', '1800', '889', '9999', 'Tele', 'verification', 'to', 'activate', 'both', 'HD', 'voice', 'data', 'services', '1977', 'For', 'support', 'on', 'International', 'Roaming', 'accessible', 'only', 'when', 'roaming', 'abroad', '917018899999', 'charges', 'applicable']\n"
     ]
    }
   ],
   "source": [
    "myregex = re.compile('[\\w]+')\n",
    "print(myregex.findall(mytext5))"
   ]
  },
  {
   "cell_type": "code",
   "execution_count": 46,
   "id": "4ab75240",
   "metadata": {},
   "outputs": [
    {
     "name": "stdout",
     "output_type": "stream",
     "text": [
      "['ur', 'experts', 'are', 'available', 'for', 'your', 'assistance', 'x', 'onday', 'unday', 'nterested', 'in', 'io', 'alk', 'to', 'us', 'on', 'or', 'recharge', 'plans', 'data', 'balance', 'validity', 'recharge', 'confirmation', 'offers', 'or', 'ueries', 'or', 'omplaints', 'alling', 'from', 'on', 'io', 'number', 'ele', 'verification', 'to', 'activate', 'both', 'voice', 'data', 'services', 'or', 'support', 'on', 'nternational', 'oaming', 'accessible', 'only', 'when', 'roaming', 'abroad', 'charges', 'applicable']\n"
     ]
    }
   ],
   "source": [
    "myregex = re.compile('[a-z]+')\n",
    "print(myregex.findall(mytext5))\n"
   ]
  },
  {
   "cell_type": "code",
   "execution_count": 47,
   "id": "f36d8583",
   "metadata": {},
   "outputs": [
    {
     "name": "stdout",
     "output_type": "stream",
     "text": [
      "[' ', ' ', ' ', ' ', ' ', ' ', ' ', ' (', ' - ', ')\\n\\n', ' ', ' ', '? ', ' ', ' ', ' ', '\\t', '-', '-', '\\n', ' ', ' ', ', ', ' ', ', ', ', ', ' ', ' & ', '\\t', '\\n', ' ', '\\t', '\\n', ' ', '\\t', '\\n', ' ', ' ', ' ', ' ', '\\t', '-', '-', '\\n', '-', ' ', ' ', ' ', ' ', ' ', ' & ', ' ', '\\t', '\\n', ' ', ' ', ' ', ' ', ' (', ' ', ' \\n', ' ', ' ', ')\\t+', ' (', ' ', ')']\n",
      "\n",
      "['(', '-', ')', '?', '-', '-', ',', ',', ',', '&', '-', '-', '-', '&', '(', ')', '+', '(', ')']\n"
     ]
    }
   ],
   "source": [
    "# [^] - Returns a match for any character EXCEPT mentioned in Set\n",
    "myregex = re.compile('[^\\w]+')\n",
    "print(myregex.findall(mytext5))\n",
    "\n",
    "print('')\n",
    "\n",
    "myregex = re.compile('[^\\w^\\s]+')\n",
    "print(myregex.findall(mytext5))"
   ]
  },
  {
   "cell_type": "markdown",
   "id": "ab444cb6",
   "metadata": {},
   "source": [
    "## ^ (Beginning) & $ (End) of a String\n",
    "\n",
    "Caret symbol (^) at the start of a regex to indicate that a match must occur at the beginning of the searched text.\n",
    "\n",
    "Dollar sign ($) at the end of the regex to indicate the string must end with this regex pattern."
   ]
  },
  {
   "cell_type": "code",
   "execution_count": 48,
   "id": "28dc60e8",
   "metadata": {},
   "outputs": [
    {
     "data": {
      "text/plain": [
       "'Our'"
      ]
     },
     "execution_count": 48,
     "metadata": {},
     "output_type": "execute_result"
    }
   ],
   "source": [
    "myregex = re.compile(r'^\\w+')\n",
    "mo = myregex.search(mytext5)\n",
    "mo.group()"
   ]
  },
  {
   "cell_type": "code",
   "execution_count": 49,
   "id": "ddc5e509",
   "metadata": {},
   "outputs": [
    {
     "data": {
      "text/plain": [
       "'applicable)'"
      ]
     },
     "execution_count": 49,
     "metadata": {},
     "output_type": "execute_result"
    }
   ],
   "source": [
    "myregex = re.compile(r'\\w+\\W+$')\n",
    "mo = myregex.search(mytext5)\n",
    "mo.group()"
   ]
  },
  {
   "cell_type": "markdown",
   "id": "2a558ba4",
   "metadata": {},
   "source": [
    "### Wildcard Character\n",
    "The . (or dot) character in a regular expression is called a\n",
    "\n",
    "wildcard and will match any character except for a newline."
   ]
  },
  {
   "cell_type": "code",
   "execution_count": 50,
   "id": "f1342646",
   "metadata": {},
   "outputs": [
    {
     "data": {
      "text/plain": [
       "['dat', 'mat', 'cat', 'vat', 'dat', 'nat']"
      ]
     },
     "execution_count": 50,
     "metadata": {},
     "output_type": "execute_result"
    }
   ],
   "source": [
    "dotRegex = re.compile(r'.at')\n",
    "dotRegex.findall(mytext5)"
   ]
  },
  {
   "cell_type": "code",
   "execution_count": 51,
   "id": "1ce8d02f",
   "metadata": {},
   "outputs": [
    {
     "data": {
      "text/plain": [
       "['Mon', ' on', 'con', 'ion', 'Non', 'ion', ' on', 'ion', ' on']"
      ]
     },
     "execution_count": 51,
     "metadata": {},
     "output_type": "execute_result"
    }
   ],
   "source": [
    "dotRegex = re.compile(r'..at')\n",
    "dotRegex.findall(mytext5)\n",
    "\n",
    "dotRegex = re.compile(r'.at.')\n",
    "dotRegex.findall(mytext5)\n",
    "\n",
    "dotRegex = re.compile(r'.on')\n",
    "dotRegex.findall(mytext5)"
   ]
  },
  {
   "cell_type": "markdown",
   "id": "07291291",
   "metadata": {},
   "source": [
    "## sub() method"
   ]
  },
  {
   "cell_type": "code",
   "execution_count": 52,
   "id": "0ba9e336",
   "metadata": {},
   "outputs": [
    {
     "data": {
      "text/plain": [
       "'Our experts are available for your assistance 24x7 (Monday - Sunday)\\n\\nInterested in Jio? Talk to us on\\t1860-893-3333\\nFor recharge plans, data balance, validity, recharge confirmation & offers\\t1991\\nFor Queries\\t199\\nFor Complaints\\t198\\nCalling from Non Jio number\\t1800-889-9999\\nTele-verification to activate both HD voice & data services\\t1977\\nFor support on International Roaming (accessible only \\nwhen roaming abroad)\\t+917018899999 (charges applicable)'"
      ]
     },
     "execution_count": 52,
     "metadata": {},
     "output_type": "execute_result"
    }
   ],
   "source": [
    "mytext5"
   ]
  },
  {
   "cell_type": "code",
   "execution_count": 53,
   "id": "04954ec8",
   "metadata": {},
   "outputs": [
    {
     "data": {
      "text/plain": [
       "'Our experts are available for your assistance 24x7 (Monday - Sunday)--------Interested in Jio---- Talk to us on----1860-893-3333----For recharge plans, data balance, validity, recharge confirmation & offers----1991----For Queries----199----For Complaints----198----Calling from Non Jio number----1800-889-9999----Tele-verification to activate both HD voice & data services----1977----For support on International Roaming (accessible only ----when roaming abroad)----+917018899999 (charges applicable)'"
      ]
     },
     "execution_count": 53,
     "metadata": {},
     "output_type": "execute_result"
    }
   ],
   "source": [
    "subreg = re.compile(r'\\t|\\n|\\?')\n",
    "subreg.sub('----',mytext5)"
   ]
  },
  {
   "cell_type": "code",
   "execution_count": 54,
   "id": "e12e285b",
   "metadata": {},
   "outputs": [
    {
     "data": {
      "text/plain": [
       "'Our experts are available for your assistance **x* (Monday - Sunday)\\n\\nInterested in Jio? Talk to us on\\t****-***-****\\nFor recharge plans, data balance, validity, recharge confirmation & offers\\t****\\nFor Queries\\t***\\nFor Complaints\\t***\\nCalling from Non Jio number\\t****-***-****\\nTele-verification to activate both HD voice & data services\\t****\\nFor support on International Roaming (accessible only \\nwhen roaming abroad)\\t+************ (charges applicable)'"
      ]
     },
     "execution_count": 54,
     "metadata": {},
     "output_type": "execute_result"
    }
   ],
   "source": [
    "subreg = re.compile(r'\\d')\n",
    "subreg.sub('*',mytext5)"
   ]
  },
  {
   "cell_type": "code",
   "execution_count": 55,
   "id": "f185868d",
   "metadata": {},
   "outputs": [
    {
     "data": {
      "text/plain": [
       "'**********************************************24*7*(*******-*******)*******************?***************1860-893-3333*******************,*************,*********,***********************&********1991*************199****************198*****************************1800-889-9999*****-***************************************&***************1977**************************************(************************************)*+917018899999*(******************)'"
      ]
     },
     "execution_count": 55,
     "metadata": {},
     "output_type": "execute_result"
    }
   ],
   "source": [
    "subreg = re.compile(r'[a-zA-Z\\s]')\n",
    "subreg.sub('*',mytext5)"
   ]
  },
  {
   "cell_type": "code",
   "execution_count": 56,
   "id": "6915edf2",
   "metadata": {},
   "outputs": [
    {
     "data": {
      "text/plain": [
       "'**********************************************24*7*****************************************************1860*893*3333****************************************************************************1991*************199****************198*****************************1800*889*9999*************************************************************1977******************************************************************************917018899999*********************'"
      ]
     },
     "execution_count": 56,
     "metadata": {},
     "output_type": "execute_result"
    }
   ],
   "source": [
    "subreg = re.compile(r'[^\\d]')\n",
    "subreg.sub('*',mytext5)"
   ]
  },
  {
   "cell_type": "markdown",
   "id": "1f7bfe19",
   "metadata": {},
   "source": [
    "## split() method"
   ]
  },
  {
   "cell_type": "code",
   "execution_count": 57,
   "id": "ec285103",
   "metadata": {},
   "outputs": [
    {
     "data": {
      "text/plain": [
       "['Our experts are available for your assistance 24x7 (Monday - Sunday)',\n",
       " '',\n",
       " 'Interested in Jio',\n",
       " ' Talk to us on',\n",
       " '1860-893-3333',\n",
       " 'For recharge plans, data balance, validity, recharge confirmation & offers',\n",
       " '1991',\n",
       " 'For Queries',\n",
       " '199',\n",
       " 'For Complaints',\n",
       " '198',\n",
       " 'Calling from Non Jio number',\n",
       " '1800-889-9999',\n",
       " 'Tele-verification to activate both HD voice & data services',\n",
       " '1977',\n",
       " 'For support on International Roaming (accessible only ',\n",
       " 'when roaming abroad)',\n",
       " '+917018899999 (charges applicable)']"
      ]
     },
     "execution_count": 57,
     "metadata": {},
     "output_type": "execute_result"
    }
   ],
   "source": [
    "subreg = re.compile(r'\\t|\\n|\\?')\n",
    "re.split(subreg,mytext5)"
   ]
  },
  {
   "cell_type": "code",
   "execution_count": 58,
   "id": "602f5fbd",
   "metadata": {},
   "outputs": [],
   "source": [
    "subRegEx = re.compile(r' ')\n",
    "list1 = re.split(subRegEx, mytext5)\n",
    "\n",
    "subRegEx = re.compile(r'\\s')\n",
    "list2 = re.split(subRegEx, mytext5)"
   ]
  },
  {
   "cell_type": "code",
   "execution_count": 62,
   "id": "d5bba078",
   "metadata": {},
   "outputs": [
    {
     "name": "stdout",
     "output_type": "stream",
     "text": [
      "False\n",
      "51\n"
     ]
    },
    {
     "data": {
      "text/plain": [
       "67"
      ]
     },
     "execution_count": 62,
     "metadata": {},
     "output_type": "execute_result"
    }
   ],
   "source": [
    "print(len(list1) == len(list2))\n",
    "print(len(list1)); len(list2)"
   ]
  },
  {
   "cell_type": "code",
   "execution_count": 63,
   "id": "2b35f9ca",
   "metadata": {},
   "outputs": [
    {
     "data": {
      "text/plain": [
       "['Our experts are available for your assistance ',\n",
       " 'x',\n",
       " ' (Monday - Sunday)\\n\\nInterested in Jio? Talk to us on\\t',\n",
       " '-',\n",
       " '-',\n",
       " '\\nFor recharge plans, data balance, validity, recharge confirmation & offers\\t',\n",
       " '\\nFor Queries\\t',\n",
       " '\\nFor Complaints\\t',\n",
       " '\\nCalling from Non Jio number\\t',\n",
       " '-',\n",
       " '-',\n",
       " '\\nTele-verification to activate both HD voice & data services\\t',\n",
       " '\\nFor support on International Roaming (accessible only \\nwhen roaming abroad)\\t+',\n",
       " ' (charges applicable)']"
      ]
     },
     "execution_count": 63,
     "metadata": {},
     "output_type": "execute_result"
    }
   ],
   "source": [
    "subRegEx = re.compile(r'\\d+')\n",
    "re.split(subRegEx, mytext5)"
   ]
  },
  {
   "cell_type": "code",
   "execution_count": 64,
   "id": "2d1ef39b",
   "metadata": {},
   "outputs": [
    {
     "name": "stdout",
     "output_type": "stream",
     "text": [
      "['9170188999']\n"
     ]
    }
   ],
   "source": [
    "myregex = re.compile(r'[0-9]{10}')\n",
    "print(myregex.findall(mytext5))"
   ]
  },
  {
   "cell_type": "code",
   "execution_count": null,
   "id": "11101261",
   "metadata": {},
   "outputs": [],
   "source": []
  }
 ],
 "metadata": {
  "kernelspec": {
   "display_name": "Python 3 (ipykernel)",
   "language": "python",
   "name": "python3"
  },
  "language_info": {
   "codemirror_mode": {
    "name": "ipython",
    "version": 3
   },
   "file_extension": ".py",
   "mimetype": "text/x-python",
   "name": "python",
   "nbconvert_exporter": "python",
   "pygments_lexer": "ipython3",
   "version": "3.9.7"
  }
 },
 "nbformat": 4,
 "nbformat_minor": 5
}
