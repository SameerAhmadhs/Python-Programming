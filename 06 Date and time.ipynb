{
 "cells": [
  {
   "cell_type": "markdown",
   "id": "76eca232",
   "metadata": {},
   "source": [
    "# DateTime in Python\n",
    "### Python has a module named datetime to work with dates and times."
   ]
  },
  {
   "cell_type": "code",
   "execution_count": 18,
   "id": "486f867c",
   "metadata": {},
   "outputs": [],
   "source": [
    "# load the module\n",
    "\n",
    "import datetime"
   ]
  },
  {
   "cell_type": "code",
   "execution_count": 6,
   "id": "8968fc7a",
   "metadata": {},
   "outputs": [],
   "source": [
    "from IPython.core.interactiveshell import InteractiveShell\n",
    "InteractiveShell.ast_node_interactivity = 'all'"
   ]
  },
  {
   "cell_type": "code",
   "execution_count": 3,
   "id": "5d0ac7ec",
   "metadata": {},
   "outputs": [
    {
     "data": {
      "text/plain": [
       "module"
      ]
     },
     "execution_count": 3,
     "metadata": {},
     "output_type": "execute_result"
    }
   ],
   "source": [
    "type(datetime)"
   ]
  },
  {
   "cell_type": "code",
   "execution_count": 4,
   "id": "46039f87",
   "metadata": {},
   "outputs": [
    {
     "name": "stdout",
     "output_type": "stream",
     "text": [
      "['MAXYEAR', 'MINYEAR', '__all__', '__builtins__', '__cached__', '__doc__', '__file__', '__loader__', '__name__', '__package__', '__spec__', 'date', 'datetime', 'datetime_CAPI', 'sys', 'time', 'timedelta', 'timezone', 'tzinfo']\n"
     ]
    }
   ],
   "source": [
    "print(dir(datetime))"
   ]
  },
  {
   "cell_type": "markdown",
   "id": "b3c47f70",
   "metadata": {},
   "source": [
    "***"
   ]
  },
  {
   "cell_type": "markdown",
   "id": "c5a0d896",
   "metadata": {},
   "source": [
    " ### Module\n",
    "    -Functions\n",
    "    -Classes\n",
    "       -Methods\n",
    "\n",
    "* Frequently used classes from datetime module are:\n",
    "\n",
    " + date Class\n",
    " + time Class\n",
    " + datetime Class # the class name is same as module name\n",
    " + timedelta Class"
   ]
  },
  {
   "cell_type": "code",
   "execution_count": 7,
   "id": "d4ea8d36",
   "metadata": {},
   "outputs": [
    {
     "name": "stdout",
     "output_type": "stream",
     "text": [
      "['__add__', '__class__', '__delattr__', '__dir__', '__doc__', '__eq__', '__format__', '__ge__', '__getattribute__', '__gt__', '__hash__', '__init__', '__init_subclass__', '__le__', '__lt__', '__ne__', '__new__', '__radd__', '__reduce__', '__reduce_ex__', '__repr__', '__rsub__', '__setattr__', '__sizeof__', '__str__', '__sub__', '__subclasshook__', 'ctime', 'day', 'fromisocalendar', 'fromisoformat', 'fromordinal', 'fromtimestamp', 'isocalendar', 'isoformat', 'isoweekday', 'max', 'min', 'month', 'replace', 'resolution', 'strftime', 'timetuple', 'today', 'toordinal', 'weekday', 'year']\n"
     ]
    }
   ],
   "source": [
    "print(dir(datetime.date)) # modulename.classname"
   ]
  },
  {
   "cell_type": "markdown",
   "id": "10588749",
   "metadata": {},
   "source": [
    "\n",
    "## Get Today's date"
   ]
  },
  {
   "cell_type": "code",
   "execution_count": 9,
   "id": "6b4b8f8b",
   "metadata": {},
   "outputs": [
    {
     "name": "stdout",
     "output_type": "stream",
     "text": [
      "2022-05-19\n"
     ]
    }
   ],
   "source": [
    "# today's date\n",
    "print(datetime.date.today())"
   ]
  },
  {
   "cell_type": "code",
   "execution_count": 11,
   "id": "aa9e0d29",
   "metadata": {},
   "outputs": [
    {
     "ename": "NameError",
     "evalue": "name 'date' is not defined",
     "output_type": "error",
     "traceback": [
      "\u001b[1;31m---------------------------------------------------------------------------\u001b[0m",
      "\u001b[1;31mNameError\u001b[0m                                 Traceback (most recent call last)",
      "\u001b[1;32m~\\AppData\\Local\\Temp/ipykernel_8996/3647543460.py\u001b[0m in \u001b[0;36m<module>\u001b[1;34m\u001b[0m\n\u001b[0;32m      1\u001b[0m \u001b[1;31m# today's date\u001b[0m\u001b[1;33m\u001b[0m\u001b[1;33m\u001b[0m\u001b[0m\n\u001b[1;32m----> 2\u001b[1;33m \u001b[0mprint\u001b[0m\u001b[1;33m(\u001b[0m\u001b[0mdate\u001b[0m\u001b[1;33m.\u001b[0m\u001b[0mtoday\u001b[0m\u001b[1;33m(\u001b[0m\u001b[1;33m)\u001b[0m\u001b[1;33m)\u001b[0m \u001b[1;31m#it will not print date cause we need to import class-date\u001b[0m\u001b[1;33m\u001b[0m\u001b[1;33m\u001b[0m\u001b[0m\n\u001b[0m",
      "\u001b[1;31mNameError\u001b[0m: name 'date' is not defined"
     ]
    }
   ],
   "source": [
    "# today's date\n",
    "print(date.today()) #it will not print date cause we need to import class-date"
   ]
  },
  {
   "cell_type": "markdown",
   "id": "6e2da9a6",
   "metadata": {},
   "source": [
    "#### Let's import the classes from the module"
   ]
  },
  {
   "cell_type": "code",
   "execution_count": 4,
   "id": "185b4a50",
   "metadata": {},
   "outputs": [],
   "source": [
    "from datetime import date,time,timedelta,datetime"
   ]
  },
  {
   "cell_type": "code",
   "execution_count": 5,
   "id": "f2ca3266",
   "metadata": {},
   "outputs": [
    {
     "name": "stdout",
     "output_type": "stream",
     "text": [
      "2022-05-20\n"
     ]
    }
   ],
   "source": [
    "# now try to print todays date after import date\n",
    "print(date.today())"
   ]
  },
  {
   "cell_type": "markdown",
   "id": "8a4bc3fe",
   "metadata": {},
   "source": [
    "### Access the date components"
   ]
  },
  {
   "cell_type": "code",
   "execution_count": 14,
   "id": "641c8592",
   "metadata": {},
   "outputs": [
    {
     "name": "stdout",
     "output_type": "stream",
     "text": [
      "2022-05-19 <class 'datetime.date'>\n"
     ]
    }
   ],
   "source": [
    "tdy = date.today()\n",
    "\n",
    "print(tdy, type(tdy))"
   ]
  },
  {
   "cell_type": "code",
   "execution_count": 15,
   "id": "2eb25cca",
   "metadata": {},
   "outputs": [
    {
     "name": "stdout",
     "output_type": "stream",
     "text": [
      "['__add__', '__class__', '__delattr__', '__dir__', '__doc__', '__eq__', '__format__', '__ge__', '__getattribute__', '__gt__', '__hash__', '__init__', '__init_subclass__', '__le__', '__lt__', '__ne__', '__new__', '__radd__', '__reduce__', '__reduce_ex__', '__repr__', '__rsub__', '__setattr__', '__sizeof__', '__str__', '__sub__', '__subclasshook__', 'ctime', 'day', 'fromisocalendar', 'fromisoformat', 'fromordinal', 'fromtimestamp', 'isocalendar', 'isoformat', 'isoweekday', 'max', 'min', 'month', 'replace', 'resolution', 'strftime', 'timetuple', 'today', 'toordinal', 'weekday', 'year']\n"
     ]
    }
   ],
   "source": [
    "print(dir(date))"
   ]
  },
  {
   "cell_type": "code",
   "execution_count": 16,
   "id": "23b2d33e",
   "metadata": {},
   "outputs": [
    {
     "name": "stdout",
     "output_type": "stream",
     "text": [
      "19 5 2022\n"
     ]
    }
   ],
   "source": [
    "print(tdy.day,tdy.month,tdy.year)"
   ]
  },
  {
   "cell_type": "code",
   "execution_count": 17,
   "id": "fa1bdbb4",
   "metadata": {},
   "outputs": [
    {
     "name": "stdout",
     "output_type": "stream",
     "text": [
      "3\n"
     ]
    }
   ],
   "source": [
    "# getting the Weekday number\n",
    "print(tdy.weekday())\n",
    "\n",
    "# Return the day of the week represented by the date.\n",
    "# Monday == 0 ... Sunday == 6"
   ]
  },
  {
   "cell_type": "markdown",
   "id": "34756621",
   "metadata": {},
   "source": [
    "## Get current datetime stamp"
   ]
  },
  {
   "cell_type": "code",
   "execution_count": 22,
   "id": "cd2182d5",
   "metadata": {},
   "outputs": [
    {
     "name": "stdout",
     "output_type": "stream",
     "text": [
      "2022-05-19 17:50:37.362395\n"
     ]
    }
   ],
   "source": [
    "xyz=datetime.now()\n",
    "print(xyz)"
   ]
  },
  {
   "cell_type": "markdown",
   "id": "906e29a9",
   "metadata": {},
   "source": [
    "## Get time stamp only"
   ]
  },
  {
   "cell_type": "code",
   "execution_count": 24,
   "id": "6fbb8276",
   "metadata": {},
   "outputs": [],
   "source": [
    "abc=datetime.time(xyz)"
   ]
  },
  {
   "cell_type": "code",
   "execution_count": 25,
   "id": "32d86475",
   "metadata": {},
   "outputs": [
    {
     "name": "stdout",
     "output_type": "stream",
     "text": [
      "17:50:37.362395\n"
     ]
    }
   ],
   "source": [
    "print(abc)"
   ]
  },
  {
   "cell_type": "markdown",
   "id": "6245faa5",
   "metadata": {},
   "source": [
    "## date, datetime, time objects"
   ]
  },
  {
   "cell_type": "code",
   "execution_count": 7,
   "id": "c8d411ce",
   "metadata": {},
   "outputs": [
    {
     "data": {
      "text/plain": [
       "datetime.date(2022, 5, 20)"
      ]
     },
     "execution_count": 7,
     "metadata": {},
     "output_type": "execute_result"
    },
    {
     "name": "stdout",
     "output_type": "stream",
     "text": [
      "2022-05-20\n"
     ]
    },
    {
     "data": {
      "text/plain": [
       "datetime.datetime(2022, 5, 20, 16, 44, 43, 280366)"
      ]
     },
     "execution_count": 7,
     "metadata": {},
     "output_type": "execute_result"
    },
    {
     "name": "stdout",
     "output_type": "stream",
     "text": [
      "2022-05-20 16:44:43.280366\n"
     ]
    },
    {
     "data": {
      "text/plain": [
       "datetime.time(16, 44, 43, 280366)"
      ]
     },
     "execution_count": 7,
     "metadata": {},
     "output_type": "execute_result"
    },
    {
     "name": "stdout",
     "output_type": "stream",
     "text": [
      "16:44:43.280366\n"
     ]
    }
   ],
   "source": [
    "date.today()\n",
    "print(date.today())\n",
    "\n",
    "datetime.now()\n",
    "print(datetime.now())\n",
    "\n",
    "asd=datetime.now()\n",
    "datetime.time(asd)\n",
    "print(datetime.time(asd))"
   ]
  },
  {
   "cell_type": "markdown",
   "id": "49e932e7",
   "metadata": {},
   "source": [
    "## Construct a Date object"
   ]
  },
  {
   "cell_type": "code",
   "execution_count": 15,
   "id": "d23b83ad",
   "metadata": {},
   "outputs": [
    {
     "name": "stdout",
     "output_type": "stream",
     "text": [
      "1999-04-10\n"
     ]
    }
   ],
   "source": [
    "dd,mm,yy=10,4,1999\n",
    "print(date(yy,mm,dd))  # date(year, month, day) --> date object"
   ]
  },
  {
   "cell_type": "markdown",
   "id": "e0ca1994",
   "metadata": {},
   "source": [
    "## Construct a time object"
   ]
  },
  {
   "cell_type": "code",
   "execution_count": 16,
   "id": "cabfc738",
   "metadata": {},
   "outputs": [
    {
     "name": "stdout",
     "output_type": "stream",
     "text": [
      "00:00:00\n"
     ]
    }
   ],
   "source": [
    "print(time())"
   ]
  },
  {
   "cell_type": "code",
   "execution_count": 17,
   "id": "d02a7c1a",
   "metadata": {},
   "outputs": [
    {
     "name": "stdout",
     "output_type": "stream",
     "text": [
      "12:55:40.123456\n"
     ]
    }
   ],
   "source": [
    "h,m,s,ms=12,55,40,123456\n",
    "print(time(h,m,s,ms))\n",
    "# time([hour[, minute[, second[, microsecond[, tzinfo]]]]]) --> a time object"
   ]
  },
  {
   "cell_type": "markdown",
   "id": "2d1dfef7",
   "metadata": {},
   "source": [
    "## Construct a datetime object"
   ]
  },
  {
   "cell_type": "code",
   "execution_count": 19,
   "id": "a4302a9f",
   "metadata": {},
   "outputs": [
    {
     "name": "stdout",
     "output_type": "stream",
     "text": [
      "1999-04-10 12:00:00\n",
      "1999-04-10 12:55:00\n",
      "1999-04-10 12:55:40\n",
      "1999-04-10 12:55:40.123456\n"
     ]
    }
   ],
   "source": [
    "dd,mm,yy=10,4,1999\n",
    "h,m,s,ms=12,55,40,123456\n",
    "print(datetime(yy,mm,dd,h))\n",
    "print(datetime(yy,mm,dd,h,m))\n",
    "print(datetime(yy,mm,dd,h,m,s))\n",
    "print(datetime(yy,mm,dd,h,m,s,ms))"
   ]
  },
  {
   "cell_type": "markdown",
   "id": "60ee6afb",
   "metadata": {},
   "source": [
    "## Unix timestamp"
   ]
  },
  {
   "cell_type": "code",
   "execution_count": 21,
   "id": "6dcb35b3",
   "metadata": {},
   "outputs": [
    {
     "name": "stdout",
     "output_type": "stream",
     "text": [
      "1653046319.243122\n"
     ]
    }
   ],
   "source": [
    "cdts = datetime.now()\n",
    "print(cdts.timestamp())"
   ]
  },
  {
   "cell_type": "code",
   "execution_count": 23,
   "id": "a147c31f",
   "metadata": {},
   "outputs": [
    {
     "name": "stdout",
     "output_type": "stream",
     "text": [
      "2022-05-20 17:01:59.243122\n"
     ]
    }
   ],
   "source": [
    "print(datetime.fromtimestamp(1653046319.243122))"
   ]
  },
  {
   "cell_type": "markdown",
   "id": "c514429b",
   "metadata": {},
   "source": [
    "# Formatting options for DateTime\n",
    "\n",
    "Used with the function strftime().\n",
    "\n",
    "**Date formatting:**\n",
    "\n",
    "+ (%y/%Y – Year)\n",
    "+ (%b/%B/%m- month)\n",
    "+ (%d - day of month)\n",
    "+ (%a/%A- weekday Name)\n",
    "\n",
    "**Time Formatting:**\n",
    "\n",
    "+ %I/%H - 12/24 Hour\n",
    "+ %M - minute\n",
    "+ %S - second\n",
    "+ %p - local's AM/PM\n",
    "\n",
    "**Pre-defined formatting:**\n",
    "\n",
    "+ %c - local date and time\n",
    "+ %x-local date\n",
    "+ %X- local time"
   ]
  },
  {
   "cell_type": "code",
   "execution_count": null,
   "id": "c3309583",
   "metadata": {},
   "outputs": [],
   "source": []
  },
  {
   "cell_type": "code",
   "execution_count": null,
   "id": "4a7846de",
   "metadata": {},
   "outputs": [],
   "source": []
  },
  {
   "cell_type": "code",
   "execution_count": null,
   "id": "539216e7",
   "metadata": {},
   "outputs": [],
   "source": []
  },
  {
   "cell_type": "code",
   "execution_count": null,
   "id": "da1951d1",
   "metadata": {},
   "outputs": [],
   "source": []
  }
 ],
 "metadata": {
  "kernelspec": {
   "display_name": "Python 3 (ipykernel)",
   "language": "python",
   "name": "python3"
  },
  "language_info": {
   "codemirror_mode": {
    "name": "ipython",
    "version": 3
   },
   "file_extension": ".py",
   "mimetype": "text/x-python",
   "name": "python",
   "nbconvert_exporter": "python",
   "pygments_lexer": "ipython3",
   "version": "3.9.7"
  }
 },
 "nbformat": 4,
 "nbformat_minor": 5
}
