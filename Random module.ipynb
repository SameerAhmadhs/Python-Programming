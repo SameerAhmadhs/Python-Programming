{
 "cells": [
  {
   "cell_type": "code",
   "execution_count": 8,
   "id": "5eb8c6d4",
   "metadata": {},
   "outputs": [
    {
     "name": "stdout",
     "output_type": "stream",
     "text": [
      "7\n",
      "Enter the lottery no (chance1): 6\n",
      "Enter the lottery no (chance2): 4\n",
      "Enter the lottery no (chance3): 7\n",
      "win\n"
     ]
    }
   ],
   "source": [
    "import random\n",
    "A=random.randint(0,10)\n",
    "print(A)\n",
    "acno1=int(input('Enter the lottery no (chance1): '))\n",
    "acno2=int(input('Enter the lottery no (chance2): '))\n",
    "acno3=int(input('Enter the lottery no (chance3): '))\n",
    "if A==acno1 or A==acno2 or A==acno3:\n",
    "    print('win')\n",
    "else:\n",
    "    print('loss')"
   ]
  },
  {
   "cell_type": "code",
   "execution_count": 11,
   "id": "8b29dccc",
   "metadata": {},
   "outputs": [
    {
     "name": "stdout",
     "output_type": "stream",
     "text": [
      "3\n",
      "2\n",
      "loss\n",
      "3\n",
      "win\n",
      "better luck next time\n"
     ]
    }
   ],
   "source": [
    "import random\n",
    "\n",
    "print(A)\n",
    "# acno1=int(input('Enter the lottery no (chance1): '))\n",
    "acno=3\n",
    "start=1\n",
    "stop=3\n",
    "while start<=stop:\n",
    "    A=random.randint(0,5)\n",
    "    print(A)\n",
    "    if A==acno:\n",
    "        print('win')\n",
    "        break\n",
    "    else:\n",
    "        print('loss')\n",
    "    start+=1\n",
    "print('better luck next time')\n",
    "    \n",
    "    \n",
    "    \n"
   ]
  },
  {
   "cell_type": "code",
   "execution_count": null,
   "id": "244ec6a9",
   "metadata": {},
   "outputs": [],
   "source": [
    "import random\n",
    "\n",
    "\n",
    "# acno1=int(input('Enter the lottery no (chance1): '))\n",
    "acno=3\n",
    "\n",
    "while start<=stop:\n",
    "    A=random.randint(0,5)\n",
    "    print(A)\n",
    "    if A==acno:\n",
    "        print('win')\n",
    "        break\n",
    "    else:\n",
    "        print('loss')\n",
    "    start+=1\n",
    "print('better luck next time')\n",
    "    "
   ]
  },
  {
   "cell_type": "code",
   "execution_count": 24,
   "id": "45c0ac0f",
   "metadata": {},
   "outputs": [
    {
     "name": "stdout",
     "output_type": "stream",
     "text": [
      "5\n",
      "win\n",
      "8\n",
      "loss\n",
      "5\n",
      "win\n",
      "random no is  5\n"
     ]
    }
   ],
   "source": [
    "import random\n",
    "\n",
    "acno = 5\n",
    "for i in range(3):\n",
    "    A=random.randint(0,10)\n",
    "    print(A)\n",
    "    if A==acno:\n",
    "        print('win')\n",
    "    else:\n",
    "        print('loss')\n",
    "print('random no is ',A)"
   ]
  },
  {
   "cell_type": "code",
   "execution_count": null,
   "id": "8dc4cca3",
   "metadata": {},
   "outputs": [],
   "source": []
  },
  {
   "cell_type": "code",
   "execution_count": null,
   "id": "e921efbe",
   "metadata": {},
   "outputs": [],
   "source": []
  },
  {
   "cell_type": "code",
   "execution_count": null,
   "id": "5f52dfb1",
   "metadata": {},
   "outputs": [],
   "source": []
  }
 ],
 "metadata": {
  "kernelspec": {
   "display_name": "Python 3 (ipykernel)",
   "language": "python",
   "name": "python3"
  },
  "language_info": {
   "codemirror_mode": {
    "name": "ipython",
    "version": 3
   },
   "file_extension": ".py",
   "mimetype": "text/x-python",
   "name": "python",
   "nbconvert_exporter": "python",
   "pygments_lexer": "ipython3",
   "version": "3.9.7"
  }
 },
 "nbformat": 4,
 "nbformat_minor": 5
}
